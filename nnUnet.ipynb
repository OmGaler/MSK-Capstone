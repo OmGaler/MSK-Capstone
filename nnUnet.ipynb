{
  "cells": [
    {
      "cell_type": "code",
      "source": [],
      "metadata": {
        "id": "pTx6t4ID87Kq"
      },
      "execution_count": null,
      "outputs": []
    },
    {
      "cell_type": "code",
      "execution_count": 1,
      "metadata": {
        "id": "yj-URPve6g8Y",
        "outputId": "2735afdd-2e7f-43da-ab19-d0fed7503251",
        "colab": {
          "base_uri": "https://localhost:8080/"
        }
      },
      "outputs": [
        {
          "output_type": "stream",
          "name": "stdout",
          "text": [
            "Background checkpoint download started.\n"
          ]
        },
        {
          "output_type": "stream",
          "name": "stderr",
          "text": [
            "Exception in thread Thread-10 (download_checkpoint):\n",
            "Traceback (most recent call last):\n",
            "  File \"/usr/lib/python3.10/threading.py\", line 1016, in _bootstrap_inner\n",
            "    self.run()\n",
            "  File \"/usr/lib/python3.10/threading.py\", line 953, in run\n",
            "    self._target(*self._args, **self._kwargs)\n",
            "  File \"<ipython-input-1-1f2118c8a558>\", line 8, in download_checkpoint\n",
            "FileNotFoundError: [Errno 2] No such file or directory: '/nnunetresults/'\n"
          ]
        }
      ],
      "source": [
        "import os\n",
        "import time\n",
        "import threading\n",
        "from google.colab import files\n",
        "\n",
        "def download_checkpoint():\n",
        "    while True:\n",
        "        files_list = os.listdir(\"/nnunetresults/\")\n",
        "        for file in files_list:\n",
        "            if file.endswith(\".pth\"):\n",
        "                print(\"Checkpoint found. Downloading...\")\n",
        "                local_path = os.path.join(\"/nnunetresults/\", file)\n",
        "                files.download(local_path)\n",
        "                return\n",
        "        time.sleep(10)  # Check every 10 seconds\n",
        "\n",
        "def main():\n",
        "    # Start the download_checkpoint function in a separate thread\n",
        "    thread = threading.Thread(target=download_checkpoint)\n",
        "    thread.daemon = True  # Daemonize the thread so it terminates when the main thread terminates\n",
        "    thread.start()\n",
        "\n",
        "if __name__ == \"__main__\":\n",
        "    main()\n",
        "    print(\"Background checkpoint download started.\")\n"
      ]
    },
    {
      "cell_type": "code",
      "execution_count": 2,
      "metadata": {
        "colab": {
          "base_uri": "https://localhost:8080/"
        },
        "id": "fkZG-toIysqa",
        "outputId": "aa96f401-1b7a-446c-bce1-2df1cf39d30f"
      },
      "outputs": [
        {
          "output_type": "stream",
          "name": "stdout",
          "text": [
            "Looking in indexes: https://download.pytorch.org/whl/cu118\n",
            "Requirement already satisfied: torch in /usr/local/lib/python3.10/dist-packages (2.1.0+cu121)\n",
            "Requirement already satisfied: torchvision in /usr/local/lib/python3.10/dist-packages (0.16.0+cu121)\n",
            "Requirement already satisfied: filelock in /usr/local/lib/python3.10/dist-packages (from torch) (3.13.1)\n",
            "Requirement already satisfied: typing-extensions in /usr/local/lib/python3.10/dist-packages (from torch) (4.10.0)\n",
            "Requirement already satisfied: sympy in /usr/local/lib/python3.10/dist-packages (from torch) (1.12)\n",
            "Requirement already satisfied: networkx in /usr/local/lib/python3.10/dist-packages (from torch) (3.2.1)\n",
            "Requirement already satisfied: jinja2 in /usr/local/lib/python3.10/dist-packages (from torch) (3.1.3)\n",
            "Requirement already satisfied: fsspec in /usr/local/lib/python3.10/dist-packages (from torch) (2023.6.0)\n",
            "Requirement already satisfied: triton==2.1.0 in /usr/local/lib/python3.10/dist-packages (from torch) (2.1.0)\n",
            "Requirement already satisfied: numpy in /usr/local/lib/python3.10/dist-packages (from torchvision) (1.25.2)\n",
            "Requirement already satisfied: requests in /usr/local/lib/python3.10/dist-packages (from torchvision) (2.31.0)\n",
            "Requirement already satisfied: pillow!=8.3.*,>=5.3.0 in /usr/local/lib/python3.10/dist-packages (from torchvision) (9.4.0)\n",
            "Requirement already satisfied: MarkupSafe>=2.0 in /usr/local/lib/python3.10/dist-packages (from jinja2->torch) (2.1.5)\n",
            "Requirement already satisfied: charset-normalizer<4,>=2 in /usr/local/lib/python3.10/dist-packages (from requests->torchvision) (3.3.2)\n",
            "Requirement already satisfied: idna<4,>=2.5 in /usr/local/lib/python3.10/dist-packages (from requests->torchvision) (3.6)\n",
            "Requirement already satisfied: urllib3<3,>=1.21.1 in /usr/local/lib/python3.10/dist-packages (from requests->torchvision) (2.0.7)\n",
            "Requirement already satisfied: certifi>=2017.4.17 in /usr/local/lib/python3.10/dist-packages (from requests->torchvision) (2024.2.2)\n",
            "Requirement already satisfied: mpmath>=0.19 in /usr/local/lib/python3.10/dist-packages (from sympy->torch) (1.3.0)\n"
          ]
        }
      ],
      "source": [
        "! pip3 install torch torchvision --index-url https://download.pytorch.org/whl/cu118"
      ]
    },
    {
      "cell_type": "code",
      "execution_count": 3,
      "metadata": {
        "id": "30ncoCMi2Yhl",
        "outputId": "b0e060da-85be-4cd5-d372-d6d3f57d0dbe",
        "colab": {
          "base_uri": "https://localhost:8080/"
        }
      },
      "outputs": [
        {
          "output_type": "stream",
          "name": "stdout",
          "text": [
            "mkdir: cannot create directory ‘nnUNet_raw’: File exists\n",
            "mkdir: cannot create directory ‘nnUNet_preprocessed’: File exists\n",
            "mkdir: cannot create directory ‘nnUNet_results’: File exists\n"
          ]
        }
      ],
      "source": [
        "! mkdir \"nnUNet_raw\"\n",
        "! mkdir \"nnUNet_preprocessed\"\n",
        "! mkdir \"nnUNet_results\""
      ]
    },
    {
      "cell_type": "markdown",
      "metadata": {
        "id": "2jRNXWxi3OC7"
      },
      "source": [
        "Hmm this should be giving an output."
      ]
    },
    {
      "cell_type": "code",
      "execution_count": 4,
      "metadata": {
        "id": "NyDmNgOjhdDk"
      },
      "outputs": [],
      "source": [
        "import os\n",
        "# Set environment variable\n",
        "os.environ['nnUNet_raw'] = '/content/nnUNet_raw'\n",
        "os.environ['nnUNet_preprocessed'] = '/content/nnUNet_preprocessed'\n",
        "os.environ['nnUNet_results'] = '/content/nnUNet_results'"
      ]
    },
    {
      "cell_type": "code",
      "execution_count": 5,
      "metadata": {
        "colab": {
          "base_uri": "https://localhost:8080/"
        },
        "id": "i3kgnbk8hl59",
        "outputId": "2362dc19-936b-4f6d-a4c3-7bb092531d64"
      },
      "outputs": [
        {
          "output_type": "stream",
          "name": "stdout",
          "text": [
            "/content/nnUNet_raw\n"
          ]
        }
      ],
      "source": [
        "!echo ${nnUNet_raw}"
      ]
    },
    {
      "cell_type": "code",
      "execution_count": 6,
      "metadata": {
        "colab": {
          "base_uri": "https://localhost:8080/"
        },
        "id": "AD_xh89m7zyQ",
        "outputId": "2e54078d-897f-4032-d002-db24bf7142dd"
      },
      "outputs": [
        {
          "output_type": "stream",
          "name": "stdout",
          "text": [
            "Requirement already satisfied: torchio in /usr/local/lib/python3.10/dist-packages (0.19.6)\n",
            "Requirement already satisfied: Deprecated in /usr/local/lib/python3.10/dist-packages (from torchio) (1.2.14)\n",
            "Requirement already satisfied: SimpleITK!=2.0.*,!=2.1.1.1 in /usr/local/lib/python3.10/dist-packages (from torchio) (2.3.1)\n",
            "Requirement already satisfied: humanize in /usr/local/lib/python3.10/dist-packages (from torchio) (4.7.0)\n",
            "Requirement already satisfied: nibabel in /usr/local/lib/python3.10/dist-packages (from torchio) (4.0.2)\n",
            "Requirement already satisfied: numpy>=1.15 in /usr/local/lib/python3.10/dist-packages (from torchio) (1.25.2)\n",
            "Requirement already satisfied: scipy in /usr/local/lib/python3.10/dist-packages (from torchio) (1.11.4)\n",
            "Requirement already satisfied: torch>=1.1 in /usr/local/lib/python3.10/dist-packages (from torchio) (2.1.0+cu121)\n",
            "Requirement already satisfied: tqdm in /usr/local/lib/python3.10/dist-packages (from torchio) (4.66.2)\n",
            "Requirement already satisfied: typer[all] in /usr/local/lib/python3.10/dist-packages (from torchio) (0.9.0)\n",
            "Requirement already satisfied: filelock in /usr/local/lib/python3.10/dist-packages (from torch>=1.1->torchio) (3.13.1)\n",
            "Requirement already satisfied: typing-extensions in /usr/local/lib/python3.10/dist-packages (from torch>=1.1->torchio) (4.10.0)\n",
            "Requirement already satisfied: sympy in /usr/local/lib/python3.10/dist-packages (from torch>=1.1->torchio) (1.12)\n",
            "Requirement already satisfied: networkx in /usr/local/lib/python3.10/dist-packages (from torch>=1.1->torchio) (3.2.1)\n",
            "Requirement already satisfied: jinja2 in /usr/local/lib/python3.10/dist-packages (from torch>=1.1->torchio) (3.1.3)\n",
            "Requirement already satisfied: fsspec in /usr/local/lib/python3.10/dist-packages (from torch>=1.1->torchio) (2023.6.0)\n",
            "Requirement already satisfied: triton==2.1.0 in /usr/local/lib/python3.10/dist-packages (from torch>=1.1->torchio) (2.1.0)\n",
            "Requirement already satisfied: wrapt<2,>=1.10 in /usr/local/lib/python3.10/dist-packages (from Deprecated->torchio) (1.14.1)\n",
            "Requirement already satisfied: packaging>=17.0 in /usr/local/lib/python3.10/dist-packages (from nibabel->torchio) (23.2)\n",
            "Requirement already satisfied: setuptools in /usr/local/lib/python3.10/dist-packages (from nibabel->torchio) (67.7.2)\n",
            "Requirement already satisfied: click<9.0.0,>=7.1.1 in /usr/local/lib/python3.10/dist-packages (from typer[all]->torchio) (8.1.7)\n",
            "Requirement already satisfied: colorama<0.5.0,>=0.4.3 in /usr/local/lib/python3.10/dist-packages (from typer[all]->torchio) (0.4.6)\n",
            "Requirement already satisfied: shellingham<2.0.0,>=1.3.0 in /usr/local/lib/python3.10/dist-packages (from typer[all]->torchio) (1.5.4)\n",
            "Requirement already satisfied: rich<14.0.0,>=10.11.0 in /usr/local/lib/python3.10/dist-packages (from typer[all]->torchio) (13.7.1)\n",
            "Requirement already satisfied: markdown-it-py>=2.2.0 in /usr/local/lib/python3.10/dist-packages (from rich<14.0.0,>=10.11.0->typer[all]->torchio) (3.0.0)\n",
            "Requirement already satisfied: pygments<3.0.0,>=2.13.0 in /usr/local/lib/python3.10/dist-packages (from rich<14.0.0,>=10.11.0->typer[all]->torchio) (2.16.1)\n",
            "Requirement already satisfied: MarkupSafe>=2.0 in /usr/local/lib/python3.10/dist-packages (from jinja2->torch>=1.1->torchio) (2.1.5)\n",
            "Requirement already satisfied: mpmath>=0.19 in /usr/local/lib/python3.10/dist-packages (from sympy->torch>=1.1->torchio) (1.3.0)\n",
            "Requirement already satisfied: mdurl~=0.1 in /usr/local/lib/python3.10/dist-packages (from markdown-it-py>=2.2.0->rich<14.0.0,>=10.11.0->typer[all]->torchio) (0.1.2)\n"
          ]
        }
      ],
      "source": [
        "!pip install torchio"
      ]
    },
    {
      "cell_type": "code",
      "execution_count": 7,
      "metadata": {
        "id": "2WW2REhSWAi6"
      },
      "outputs": [],
      "source": [
        "# ! mkdir 'nnUNet_raw/Task07_Kidney'\n",
        "# ! mkdir 'nnUNet_raw/Task07_Kidney/imagesTs'\n",
        "# ! mkdir 'nnUNet_raw/Task07_Kidney/imagesTr'\n",
        "# ! mkdir 'nnUNet_raw/Task07_Kidney/labelsTr'"
      ]
    },
    {
      "cell_type": "code",
      "execution_count": 8,
      "metadata": {
        "id": "5FizGjtm6tey",
        "outputId": "a8d0db61-f3d4-48f8-bfd2-f968afbe1215",
        "colab": {
          "base_uri": "https://localhost:8080/"
        }
      },
      "outputs": [
        {
          "output_type": "stream",
          "name": "stdout",
          "text": [
            "mkdir: cannot create directory ‘nnUNet_raw/Dataset007_Kidney’: File exists\n",
            "mkdir: cannot create directory ‘nnUNet_raw/Dataset007_Kidney/imagesTs’: File exists\n",
            "mkdir: cannot create directory ‘nnUNet_raw/Dataset007_Kidney/imagesTr’: File exists\n",
            "mkdir: cannot create directory ‘nnUNet_raw/Dataset007_Kidney/labelsTr’: File exists\n"
          ]
        }
      ],
      "source": [
        "! mkdir 'nnUNet_raw/Dataset007_Kidney'\n",
        "! mkdir 'nnUNet_raw/Dataset007_Kidney/imagesTs'\n",
        "! mkdir 'nnUNet_raw/Dataset007_Kidney/imagesTr'\n",
        "! mkdir 'nnUNet_raw/Dataset007_Kidney/labelsTr'"
      ]
    },
    {
      "cell_type": "code",
      "execution_count": 9,
      "metadata": {
        "colab": {
          "base_uri": "https://localhost:8080/"
        },
        "id": "YwtDwyqwDCMP",
        "outputId": "70ab6c87-899e-4cff-de99-cbf973442428"
      },
      "outputs": [
        {
          "output_type": "stream",
          "name": "stdout",
          "text": [
            "fatal: destination path 'batchgenerators' already exists and is not an empty directory.\n"
          ]
        }
      ],
      "source": [
        "!git clone https://github.com/MIC-DKFZ/batchgenerators.git"
      ]
    },
    {
      "cell_type": "code",
      "execution_count": 10,
      "metadata": {
        "colab": {
          "base_uri": "https://localhost:8080/",
          "height": 739
        },
        "id": "tL3ko5HEDC_S",
        "outputId": "829bac39-1dec-48fe-f5f7-f779a816db41"
      },
      "outputs": [
        {
          "output_type": "stream",
          "name": "stdout",
          "text": [
            "/content/batchgenerators\n",
            "Processing /content/batchgenerators\n",
            "  Preparing metadata (setup.py) ... \u001b[?25l\u001b[?25hdone\n",
            "Requirement already satisfied: pillow>=7.1.2 in /usr/local/lib/python3.10/dist-packages (from batchgenerators==0.25) (9.4.0)\n",
            "Requirement already satisfied: numpy>=1.10.2 in /usr/local/lib/python3.10/dist-packages (from batchgenerators==0.25) (1.25.2)\n",
            "Requirement already satisfied: scipy in /usr/local/lib/python3.10/dist-packages (from batchgenerators==0.25) (1.11.4)\n",
            "Requirement already satisfied: scikit-image in /usr/local/lib/python3.10/dist-packages (from batchgenerators==0.25) (0.19.3)\n",
            "Requirement already satisfied: scikit-learn in /usr/local/lib/python3.10/dist-packages (from batchgenerators==0.25) (1.2.2)\n",
            "Requirement already satisfied: future in /usr/local/lib/python3.10/dist-packages (from batchgenerators==0.25) (0.18.3)\n",
            "Requirement already satisfied: unittest2 in /usr/local/lib/python3.10/dist-packages (from batchgenerators==0.25) (1.1.0)\n",
            "Requirement already satisfied: threadpoolctl in /usr/local/lib/python3.10/dist-packages (from batchgenerators==0.25) (3.3.0)\n",
            "Requirement already satisfied: networkx>=2.2 in /usr/local/lib/python3.10/dist-packages (from scikit-image->batchgenerators==0.25) (3.2.1)\n",
            "Requirement already satisfied: imageio>=2.4.1 in /usr/local/lib/python3.10/dist-packages (from scikit-image->batchgenerators==0.25) (2.31.6)\n",
            "Requirement already satisfied: tifffile>=2019.7.26 in /usr/local/lib/python3.10/dist-packages (from scikit-image->batchgenerators==0.25) (2024.2.12)\n",
            "Requirement already satisfied: PyWavelets>=1.1.1 in /usr/local/lib/python3.10/dist-packages (from scikit-image->batchgenerators==0.25) (1.5.0)\n",
            "Requirement already satisfied: packaging>=20.0 in /usr/local/lib/python3.10/dist-packages (from scikit-image->batchgenerators==0.25) (23.2)\n",
            "Requirement already satisfied: joblib>=1.1.1 in /usr/local/lib/python3.10/dist-packages (from scikit-learn->batchgenerators==0.25) (1.3.2)\n",
            "Collecting argparse (from unittest2->batchgenerators==0.25)\n",
            "  Using cached argparse-1.4.0-py2.py3-none-any.whl (23 kB)\n",
            "Requirement already satisfied: six>=1.4 in /usr/local/lib/python3.10/dist-packages (from unittest2->batchgenerators==0.25) (1.16.0)\n",
            "Requirement already satisfied: traceback2 in /usr/local/lib/python3.10/dist-packages (from unittest2->batchgenerators==0.25) (1.4.0)\n",
            "Requirement already satisfied: linecache2 in /usr/local/lib/python3.10/dist-packages (from traceback2->unittest2->batchgenerators==0.25) (1.0.0)\n",
            "Building wheels for collected packages: batchgenerators\n",
            "  Building wheel for batchgenerators (setup.py) ... \u001b[?25l\u001b[?25hdone\n",
            "  Created wheel for batchgenerators: filename=batchgenerators-0.25-py3-none-any.whl size=92663 sha256=72f5e23617290b3cf0caeae445e88398dad031ec864587767a1b7997438d895e\n",
            "  Stored in directory: /tmp/pip-ephem-wheel-cache-16i8lz59/wheels/36/51/5d/3aa020578c0d1835119dcfda74d4432a5adf9470682aa6c1e1\n",
            "Successfully built batchgenerators\n",
            "Installing collected packages: argparse, batchgenerators\n",
            "  Attempting uninstall: batchgenerators\n",
            "    Found existing installation: batchgenerators 0.25\n",
            "    Uninstalling batchgenerators-0.25:\n",
            "      Successfully uninstalled batchgenerators-0.25\n",
            "Successfully installed argparse-1.4.0 batchgenerators-0.25\n"
          ]
        },
        {
          "output_type": "display_data",
          "data": {
            "application/vnd.colab-display-data+json": {
              "pip_warning": {
                "packages": [
                  "argparse"
                ]
              },
              "id": "a185c41569754b0cbf086fe2182617a3"
            }
          },
          "metadata": {}
        },
        {
          "output_type": "stream",
          "name": "stdout",
          "text": [
            "/content\n"
          ]
        }
      ],
      "source": [
        "%cd batchgenerators\n",
        "!pip install .\n",
        "\n",
        "%cd ..\n"
      ]
    },
    {
      "cell_type": "code",
      "execution_count": 11,
      "metadata": {
        "colab": {
          "base_uri": "https://localhost:8080/"
        },
        "id": "5VH8KeZk05e1",
        "outputId": "1236089e-48d2-42ff-fc46-28df95980dd8"
      },
      "outputs": [
        {
          "output_type": "stream",
          "name": "stdout",
          "text": [
            "fatal: destination path 'nnUNet' already exists and is not an empty directory.\n"
          ]
        }
      ],
      "source": [
        "# !pip install nnunetv2\n",
        "!git clone https://github.com/bennyjacob326/nnUNet.git\n",
        "\n"
      ]
    },
    {
      "cell_type": "code",
      "execution_count": 12,
      "metadata": {
        "colab": {
          "base_uri": "https://localhost:8080/",
          "height": 1000
        },
        "id": "erVTFQUAUOdL",
        "outputId": "088052e9-edb2-46c6-d604-53d45594f269"
      },
      "outputs": [
        {
          "output_type": "stream",
          "name": "stdout",
          "text": [
            "Obtaining file:///content/nnUNet\n",
            "  Installing build dependencies ... \u001b[?25l\u001b[?25hdone\n",
            "  Checking if build backend supports build_editable ... \u001b[?25l\u001b[?25hdone\n",
            "  Getting requirements to build editable ... \u001b[?25l\u001b[?25hdone\n",
            "  Preparing editable metadata (pyproject.toml) ... \u001b[?25l\u001b[?25hdone\n",
            "Requirement already satisfied: torch>=2.0.0 in /usr/local/lib/python3.10/dist-packages (from nnunetv2==2.2.1) (2.1.0+cu121)\n",
            "Requirement already satisfied: acvl-utils>=0.2 in /usr/local/lib/python3.10/dist-packages (from nnunetv2==2.2.1) (0.2)\n",
            "Requirement already satisfied: dynamic-network-architectures>=0.2 in /usr/local/lib/python3.10/dist-packages (from nnunetv2==2.2.1) (0.3.1)\n",
            "Requirement already satisfied: tqdm in /usr/local/lib/python3.10/dist-packages (from nnunetv2==2.2.1) (4.66.2)\n",
            "Requirement already satisfied: dicom2nifti in /usr/local/lib/python3.10/dist-packages (from nnunetv2==2.2.1) (2.4.10)\n",
            "Requirement already satisfied: scipy in /usr/local/lib/python3.10/dist-packages (from nnunetv2==2.2.1) (1.11.4)\n",
            "Requirement already satisfied: batchgenerators>=0.25 in /usr/local/lib/python3.10/dist-packages (from nnunetv2==2.2.1) (0.25)\n",
            "Requirement already satisfied: numpy in /usr/local/lib/python3.10/dist-packages (from nnunetv2==2.2.1) (1.25.2)\n",
            "Requirement already satisfied: scikit-learn in /usr/local/lib/python3.10/dist-packages (from nnunetv2==2.2.1) (1.2.2)\n",
            "Requirement already satisfied: scikit-image>=0.19.3 in /usr/local/lib/python3.10/dist-packages (from nnunetv2==2.2.1) (0.19.3)\n",
            "Requirement already satisfied: SimpleITK>=2.2.1 in /usr/local/lib/python3.10/dist-packages (from nnunetv2==2.2.1) (2.3.1)\n",
            "Requirement already satisfied: pandas in /usr/local/lib/python3.10/dist-packages (from nnunetv2==2.2.1) (1.5.3)\n",
            "Requirement already satisfied: graphviz in /usr/local/lib/python3.10/dist-packages (from nnunetv2==2.2.1) (0.20.1)\n",
            "Requirement already satisfied: tifffile in /usr/local/lib/python3.10/dist-packages (from nnunetv2==2.2.1) (2024.2.12)\n",
            "Requirement already satisfied: requests in /usr/local/lib/python3.10/dist-packages (from nnunetv2==2.2.1) (2.31.0)\n",
            "Requirement already satisfied: nibabel in /usr/local/lib/python3.10/dist-packages (from nnunetv2==2.2.1) (4.0.2)\n",
            "Requirement already satisfied: matplotlib in /usr/local/lib/python3.10/dist-packages (from nnunetv2==2.2.1) (3.7.1)\n",
            "Requirement already satisfied: seaborn in /usr/local/lib/python3.10/dist-packages (from nnunetv2==2.2.1) (0.13.1)\n",
            "Requirement already satisfied: imagecodecs in /usr/local/lib/python3.10/dist-packages (from nnunetv2==2.2.1) (2024.1.1)\n",
            "Requirement already satisfied: yacs in /usr/local/lib/python3.10/dist-packages (from nnunetv2==2.2.1) (0.1.8)\n",
            "Requirement already satisfied: connected-components-3d in /usr/local/lib/python3.10/dist-packages (from acvl-utils>=0.2->nnunetv2==2.2.1) (3.12.4)\n",
            "Requirement already satisfied: pillow>=7.1.2 in /usr/local/lib/python3.10/dist-packages (from batchgenerators>=0.25->nnunetv2==2.2.1) (9.4.0)\n",
            "Requirement already satisfied: future in /usr/local/lib/python3.10/dist-packages (from batchgenerators>=0.25->nnunetv2==2.2.1) (0.18.3)\n",
            "Requirement already satisfied: unittest2 in /usr/local/lib/python3.10/dist-packages (from batchgenerators>=0.25->nnunetv2==2.2.1) (1.1.0)\n",
            "Requirement already satisfied: threadpoolctl in /usr/local/lib/python3.10/dist-packages (from batchgenerators>=0.25->nnunetv2==2.2.1) (3.3.0)\n",
            "Requirement already satisfied: networkx>=2.2 in /usr/local/lib/python3.10/dist-packages (from scikit-image>=0.19.3->nnunetv2==2.2.1) (3.2.1)\n",
            "Requirement already satisfied: imageio>=2.4.1 in /usr/local/lib/python3.10/dist-packages (from scikit-image>=0.19.3->nnunetv2==2.2.1) (2.31.6)\n",
            "Requirement already satisfied: PyWavelets>=1.1.1 in /usr/local/lib/python3.10/dist-packages (from scikit-image>=0.19.3->nnunetv2==2.2.1) (1.5.0)\n",
            "Requirement already satisfied: packaging>=20.0 in /usr/local/lib/python3.10/dist-packages (from scikit-image>=0.19.3->nnunetv2==2.2.1) (23.2)\n",
            "Requirement already satisfied: filelock in /usr/local/lib/python3.10/dist-packages (from torch>=2.0.0->nnunetv2==2.2.1) (3.13.1)\n",
            "Requirement already satisfied: typing-extensions in /usr/local/lib/python3.10/dist-packages (from torch>=2.0.0->nnunetv2==2.2.1) (4.10.0)\n",
            "Requirement already satisfied: sympy in /usr/local/lib/python3.10/dist-packages (from torch>=2.0.0->nnunetv2==2.2.1) (1.12)\n",
            "Requirement already satisfied: jinja2 in /usr/local/lib/python3.10/dist-packages (from torch>=2.0.0->nnunetv2==2.2.1) (3.1.3)\n",
            "Requirement already satisfied: fsspec in /usr/local/lib/python3.10/dist-packages (from torch>=2.0.0->nnunetv2==2.2.1) (2023.6.0)\n",
            "Requirement already satisfied: triton==2.1.0 in /usr/local/lib/python3.10/dist-packages (from torch>=2.0.0->nnunetv2==2.2.1) (2.1.0)\n",
            "Requirement already satisfied: pydicom>=2.2.0 in /usr/local/lib/python3.10/dist-packages (from dicom2nifti->nnunetv2==2.2.1) (2.4.4)\n",
            "Requirement already satisfied: python-gdcm in /usr/local/lib/python3.10/dist-packages (from dicom2nifti->nnunetv2==2.2.1) (3.0.23)\n",
            "Requirement already satisfied: contourpy>=1.0.1 in /usr/local/lib/python3.10/dist-packages (from matplotlib->nnunetv2==2.2.1) (1.2.0)\n",
            "Requirement already satisfied: cycler>=0.10 in /usr/local/lib/python3.10/dist-packages (from matplotlib->nnunetv2==2.2.1) (0.12.1)\n",
            "Requirement already satisfied: fonttools>=4.22.0 in /usr/local/lib/python3.10/dist-packages (from matplotlib->nnunetv2==2.2.1) (4.49.0)\n",
            "Requirement already satisfied: kiwisolver>=1.0.1 in /usr/local/lib/python3.10/dist-packages (from matplotlib->nnunetv2==2.2.1) (1.4.5)\n",
            "Requirement already satisfied: pyparsing>=2.3.1 in /usr/local/lib/python3.10/dist-packages (from matplotlib->nnunetv2==2.2.1) (3.1.2)\n",
            "Requirement already satisfied: python-dateutil>=2.7 in /usr/local/lib/python3.10/dist-packages (from matplotlib->nnunetv2==2.2.1) (2.8.2)\n",
            "Requirement already satisfied: setuptools in /usr/local/lib/python3.10/dist-packages (from nibabel->nnunetv2==2.2.1) (67.7.2)\n",
            "Requirement already satisfied: pytz>=2020.1 in /usr/local/lib/python3.10/dist-packages (from pandas->nnunetv2==2.2.1) (2023.4)\n",
            "Requirement already satisfied: charset-normalizer<4,>=2 in /usr/local/lib/python3.10/dist-packages (from requests->nnunetv2==2.2.1) (3.3.2)\n",
            "Requirement already satisfied: idna<4,>=2.5 in /usr/local/lib/python3.10/dist-packages (from requests->nnunetv2==2.2.1) (3.6)\n",
            "Requirement already satisfied: urllib3<3,>=1.21.1 in /usr/local/lib/python3.10/dist-packages (from requests->nnunetv2==2.2.1) (2.0.7)\n",
            "Requirement already satisfied: certifi>=2017.4.17 in /usr/local/lib/python3.10/dist-packages (from requests->nnunetv2==2.2.1) (2024.2.2)\n",
            "Requirement already satisfied: joblib>=1.1.1 in /usr/local/lib/python3.10/dist-packages (from scikit-learn->nnunetv2==2.2.1) (1.3.2)\n",
            "Requirement already satisfied: PyYAML in /usr/local/lib/python3.10/dist-packages (from yacs->nnunetv2==2.2.1) (6.0.1)\n",
            "Requirement already satisfied: six>=1.5 in /usr/local/lib/python3.10/dist-packages (from python-dateutil>=2.7->matplotlib->nnunetv2==2.2.1) (1.16.0)\n",
            "Requirement already satisfied: MarkupSafe>=2.0 in /usr/local/lib/python3.10/dist-packages (from jinja2->torch>=2.0.0->nnunetv2==2.2.1) (2.1.5)\n",
            "Requirement already satisfied: mpmath>=0.19 in /usr/local/lib/python3.10/dist-packages (from sympy->torch>=2.0.0->nnunetv2==2.2.1) (1.3.0)\n",
            "Collecting argparse (from unittest2->batchgenerators>=0.25->nnunetv2==2.2.1)\n",
            "  Using cached argparse-1.4.0-py2.py3-none-any.whl (23 kB)\n",
            "Requirement already satisfied: traceback2 in /usr/local/lib/python3.10/dist-packages (from unittest2->batchgenerators>=0.25->nnunetv2==2.2.1) (1.4.0)\n",
            "Requirement already satisfied: linecache2 in /usr/local/lib/python3.10/dist-packages (from traceback2->unittest2->batchgenerators>=0.25->nnunetv2==2.2.1) (1.0.0)\n",
            "Building wheels for collected packages: nnunetv2\n",
            "  Building editable for nnunetv2 (pyproject.toml) ... \u001b[?25l\u001b[?25hdone\n",
            "  Created wheel for nnunetv2: filename=nnunetv2-2.2.1-0.editable-py3-none-any.whl size=16232 sha256=a493653580426dcb988d9d21cbcf7472bf8bf7d6f0b23ade2e473cacaebeb386\n",
            "  Stored in directory: /tmp/pip-ephem-wheel-cache-o6jaw73t/wheels/66/a8/0c/d8553e2873068c742a2c91eadf0e7dbc86388a52232ce6319b\n",
            "Successfully built nnunetv2\n",
            "Installing collected packages: argparse, nnunetv2\n",
            "  Attempting uninstall: nnunetv2\n",
            "    Found existing installation: nnunetv2 2.2.1\n",
            "    Uninstalling nnunetv2-2.2.1:\n",
            "      Successfully uninstalled nnunetv2-2.2.1\n",
            "Successfully installed argparse-1.4.0 nnunetv2-2.2.1\n"
          ]
        },
        {
          "output_type": "display_data",
          "data": {
            "application/vnd.colab-display-data+json": {
              "pip_warning": {
                "packages": [
                  "argparse"
                ]
              },
              "id": "82ad2ac5c2044e079d894026e9d7c581"
            }
          },
          "metadata": {}
        }
      ],
      "source": [
        "! pip install -e /content/nnUNet/"
      ]
    },
    {
      "cell_type": "code",
      "execution_count": 13,
      "metadata": {
        "id": "QdcJeH2VG4um"
      },
      "outputs": [],
      "source": [
        "from nnUNet.nnunetv2.paths import nnUNet_raw"
      ]
    },
    {
      "cell_type": "code",
      "execution_count": 14,
      "metadata": {
        "colab": {
          "base_uri": "https://localhost:8080/"
        },
        "id": "6l8hxDajxYXz",
        "outputId": "123fd861-d8a1-41db-c5bf-4a807d57964e"
      },
      "outputs": [
        {
          "output_type": "stream",
          "name": "stdout",
          "text": [
            "Requirement already satisfied: gdown in /usr/local/lib/python3.10/dist-packages (5.1.0)\n",
            "Requirement already satisfied: beautifulsoup4 in /usr/local/lib/python3.10/dist-packages (from gdown) (4.12.3)\n",
            "Requirement already satisfied: filelock in /usr/local/lib/python3.10/dist-packages (from gdown) (3.13.1)\n",
            "Requirement already satisfied: requests[socks] in /usr/local/lib/python3.10/dist-packages (from gdown) (2.31.0)\n",
            "Requirement already satisfied: tqdm in /usr/local/lib/python3.10/dist-packages (from gdown) (4.66.2)\n",
            "Requirement already satisfied: soupsieve>1.2 in /usr/local/lib/python3.10/dist-packages (from beautifulsoup4->gdown) (2.5)\n",
            "Requirement already satisfied: charset-normalizer<4,>=2 in /usr/local/lib/python3.10/dist-packages (from requests[socks]->gdown) (3.3.2)\n",
            "Requirement already satisfied: idna<4,>=2.5 in /usr/local/lib/python3.10/dist-packages (from requests[socks]->gdown) (3.6)\n",
            "Requirement already satisfied: urllib3<3,>=1.21.1 in /usr/local/lib/python3.10/dist-packages (from requests[socks]->gdown) (2.0.7)\n",
            "Requirement already satisfied: certifi>=2017.4.17 in /usr/local/lib/python3.10/dist-packages (from requests[socks]->gdown) (2024.2.2)\n",
            "Requirement already satisfied: PySocks!=1.5.7,>=1.5.6 in /usr/local/lib/python3.10/dist-packages (from requests[socks]->gdown) (1.7.1)\n",
            "/usr/local/lib/python3.10/dist-packages/gdown/__main__.py:132: FutureWarning: Option `--id` was deprecated in version 4.3.1 and will be removed in 5.0. You don't need to pass it anymore to use a file ID.\n",
            "  warnings.warn(\n",
            "Downloading...\n",
            "From (original): https://drive.google.com/uc?id=1Y56clKvbDbPzelgObHsWDVLLj6UIQCqj\n",
            "From (redirected): https://drive.usercontent.google.com/download?id=1Y56clKvbDbPzelgObHsWDVLLj6UIQCqj&confirm=t&uuid=4ff5bbdb-3c3a-4873-ae73-0edbe3ba63f6\n",
            "To: /content/kits23modData.zip\n",
            "100% 980M/980M [00:05<00:00, 192MB/s]\n"
          ]
        }
      ],
      "source": [
        "!pip install --upgrade --no-cache-dir gdown\n",
        "!gdown --id \"1Y56clKvbDbPzelgObHsWDVLLj6UIQCqj\""
      ]
    },
    {
      "cell_type": "code",
      "execution_count": 15,
      "metadata": {
        "colab": {
          "base_uri": "https://localhost:8080/"
        },
        "id": "dg3eat1tybHd",
        "outputId": "7c02adc6-6480-45dd-91a5-92fb3d26ce80"
      },
      "outputs": [
        {
          "output_type": "stream",
          "name": "stdout",
          "text": [
            "Archive:  /content/kits23modData.zip\n",
            "replace /content/kits_data_original/case_00135/imaging.nii.gz? [y]es, [n]o, [A]ll, [N]one, [r]ename: A\n",
            " extracting: /content/kits_data_original/case_00135/imaging.nii.gz  \n",
            " extracting: /content/kits_data_original/case_00135/segmentation.nii.gz  \n",
            " extracting: /content/kits_data_original/case_00212/imaging.nii.gz  \n",
            " extracting: /content/kits_data_original/case_00212/segmentation.nii.gz  \n",
            " extracting: /content/kits_data_original/case_00280/imaging.nii.gz  \n",
            " extracting: /content/kits_data_original/case_00280/segmentation.nii.gz  \n",
            " extracting: /content/kits_data_original/case_00065/imaging.nii.gz  \n",
            " extracting: /content/kits_data_original/case_00065/segmentation.nii.gz  \n",
            " extracting: /content/kits_data_original/case_00503/imaging.nii.gz  \n",
            " extracting: /content/kits_data_original/case_00503/segmentation.nii.gz  \n",
            " extracting: /content/kits_data_original/case_00551/imaging.nii.gz  \n",
            " extracting: /content/kits_data_original/case_00551/segmentation.nii.gz  \n",
            " extracting: /content/kits_data_original/case_00570/imaging.nii.gz  \n",
            " extracting: /content/kits_data_original/case_00570/segmentation.nii.gz  \n",
            " extracting: /content/kits_data_original/case_00114/imaging.nii.gz  \n",
            " extracting: /content/kits_data_original/case_00114/segmentation.nii.gz  \n",
            " extracting: /content/kits_data_original/case_00235/imaging.nii.gz  \n",
            " extracting: /content/kits_data_original/case_00235/segmentation.nii.gz  \n",
            " extracting: /content/kits_data_original/case_00226/imaging.nii.gz  \n",
            " extracting: /content/kits_data_original/case_00226/segmentation.nii.gz  \n",
            " extracting: /content/kits_data_original/case_00515/imaging.nii.gz  \n",
            " extracting: /content/kits_data_original/case_00515/segmentation.nii.gz  \n",
            " extracting: /content/kits_data_original/case_00179/imaging.nii.gz  \n",
            " extracting: /content/kits_data_original/case_00179/segmentation.nii.gz  \n",
            " extracting: /content/kits_data_original/case_00118/imaging.nii.gz  \n",
            " extracting: /content/kits_data_original/case_00118/segmentation.nii.gz  \n",
            " extracting: /content/kits_data_original/case_00566/imaging.nii.gz  \n",
            " extracting: /content/kits_data_original/case_00566/segmentation.nii.gz  \n",
            " extracting: /content/kits_data_original/case_00099/imaging.nii.gz  \n",
            " extracting: /content/kits_data_original/case_00099/segmentation.nii.gz  \n",
            " extracting: /content/kits_data_original/case_00132/imaging.nii.gz  \n",
            " extracting: /content/kits_data_original/case_00132/segmentation.nii.gz  \n",
            " extracting: /content/kits_data_original/case_00029/imaging.nii.gz  \n",
            " extracting: /content/kits_data_original/case_00029/segmentation.nii.gz  \n",
            " extracting: /content/kits_data_original/case_00474/imaging.nii.gz  \n",
            " extracting: /content/kits_data_original/case_00474/segmentation.nii.gz  \n",
            " extracting: /content/kits_data_original/case_00129/imaging.nii.gz  \n",
            " extracting: /content/kits_data_original/case_00129/segmentation.nii.gz  \n",
            " extracting: /content/kits_data_original/case_00565/imaging.nii.gz  \n",
            " extracting: /content/kits_data_original/case_00565/segmentation.nii.gz  \n",
            " extracting: /content/kits_data_original/case_00569/imaging.nii.gz  \n",
            " extracting: /content/kits_data_original/case_00569/segmentation.nii.gz  \n",
            " extracting: /content/kits_data_original/case_00137/imaging.nii.gz  \n",
            " extracting: /content/kits_data_original/case_00137/segmentation.nii.gz  \n",
            " extracting: /content/kits_data_original/case_00290/imaging.nii.gz  \n",
            " extracting: /content/kits_data_original/case_00290/segmentation.nii.gz  \n",
            " extracting: /content/kits_data_original/case_00046/imaging.nii.gz  \n",
            " extracting: /content/kits_data_original/case_00046/segmentation.nii.gz  \n",
            " extracting: /content/kits_data_original/case_00016/imaging.nii.gz  \n",
            " extracting: /content/kits_data_original/case_00016/segmentation.nii.gz  \n",
            " extracting: /content/kits_data_original/case_00519/imaging.nii.gz  \n",
            " extracting: /content/kits_data_original/case_00519/segmentation.nii.gz  \n",
            " extracting: /content/kits_data_original/case_00273/imaging.nii.gz  \n",
            " extracting: /content/kits_data_original/case_00273/segmentation.nii.gz  \n",
            " extracting: /content/kits_data_original/case_00171/imaging.nii.gz  \n",
            " extracting: /content/kits_data_original/case_00171/segmentation.nii.gz  \n",
            " extracting: /content/kits_data_original/case_00178/imaging.nii.gz  \n",
            " extracting: /content/kits_data_original/case_00178/segmentation.nii.gz  \n",
            " extracting: /content/kits_data_original/case_00131/imaging.nii.gz  \n",
            " extracting: /content/kits_data_original/case_00131/segmentation.nii.gz  \n",
            " extracting: /content/kits_data_original/case_00211/imaging.nii.gz  \n",
            " extracting: /content/kits_data_original/case_00211/segmentation.nii.gz  \n",
            " extracting: /content/kits_data_original/case_00271/imaging.nii.gz  \n",
            " extracting: /content/kits_data_original/case_00271/segmentation.nii.gz  \n",
            " extracting: /content/kits_data_original/case_00140/imaging.nii.gz  \n",
            " extracting: /content/kits_data_original/case_00140/segmentation.nii.gz  \n",
            " extracting: /content/kits_data_original/case_00248/imaging.nii.gz  \n",
            " extracting: /content/kits_data_original/case_00248/segmentation.nii.gz  \n",
            " extracting: /content/kits_data_original/case_00542/imaging.nii.gz  \n",
            " extracting: /content/kits_data_original/case_00542/segmentation.nii.gz  \n",
            " extracting: /content/kits_data_original/case_00152/imaging.nii.gz  \n",
            " extracting: /content/kits_data_original/case_00152/segmentation.nii.gz  \n",
            " extracting: /content/kits_data_original/case_00297/imaging.nii.gz  \n",
            " extracting: /content/kits_data_original/case_00297/segmentation.nii.gz  \n",
            " extracting: /content/kits_data_original/case_00097/imaging.nii.gz  \n",
            " extracting: /content/kits_data_original/case_00097/segmentation.nii.gz  \n",
            " extracting: /content/kits_data_original/case_00437/imaging.nii.gz  \n",
            " extracting: /content/kits_data_original/case_00437/segmentation.nii.gz  \n",
            " extracting: /content/kits_data_original/case_00164/imaging.nii.gz  \n",
            " extracting: /content/kits_data_original/case_00164/segmentation.nii.gz  \n",
            " extracting: /content/kits_data_original/case_00052/imaging.nii.gz  \n",
            " extracting: /content/kits_data_original/case_00052/segmentation.nii.gz  \n",
            " extracting: /content/kits_data_original/case_00093/imaging.nii.gz  \n",
            " extracting: /content/kits_data_original/case_00093/segmentation.nii.gz  \n",
            " extracting: /content/kits_data_original/case_00583/imaging.nii.gz  \n",
            " extracting: /content/kits_data_original/case_00583/segmentation.nii.gz  \n",
            " extracting: /content/kits_data_original/case_00547/imaging.nii.gz  \n",
            " extracting: /content/kits_data_original/case_00547/segmentation.nii.gz  \n",
            " extracting: /content/kits_data_original/case_00223/imaging.nii.gz  \n",
            " extracting: /content/kits_data_original/case_00223/segmentation.nii.gz  \n",
            " extracting: /content/kits_data_original/case_00229/imaging.nii.gz  \n",
            " extracting: /content/kits_data_original/case_00229/segmentation.nii.gz  \n",
            " extracting: /content/kits_data_original/case_00446/imaging.nii.gz  \n",
            " extracting: /content/kits_data_original/case_00446/segmentation.nii.gz  \n",
            " extracting: /content/kits_data_original/case_00507/imaging.nii.gz  \n",
            " extracting: /content/kits_data_original/case_00507/segmentation.nii.gz  \n",
            " extracting: /content/kits_data_original/case_00491/imaging.nii.gz  \n",
            " extracting: /content/kits_data_original/case_00491/segmentation.nii.gz  \n",
            " extracting: /content/kits_data_original/case_00207/imaging.nii.gz  \n",
            " extracting: /content/kits_data_original/case_00207/segmentation.nii.gz  \n",
            " extracting: /content/kits_data_original/case_00084/imaging.nii.gz  \n",
            " extracting: /content/kits_data_original/case_00084/segmentation.nii.gz  \n",
            " extracting: /content/kits_data_original/case_00012/imaging.nii.gz  \n",
            " extracting: /content/kits_data_original/case_00012/segmentation.nii.gz  \n",
            " extracting: /content/kits_data_original/case_00081/imaging.nii.gz  \n",
            " extracting: /content/kits_data_original/case_00081/segmentation.nii.gz  \n",
            " extracting: /content/kits_data_original/case_00276/imaging.nii.gz  \n",
            " extracting: /content/kits_data_original/case_00276/segmentation.nii.gz  \n",
            " extracting: /content/kits_data_original/case_00106/imaging.nii.gz  \n",
            " extracting: /content/kits_data_original/case_00106/segmentation.nii.gz  \n",
            " extracting: /content/kits_data_original/case_00428/imaging.nii.gz  \n",
            " extracting: /content/kits_data_original/case_00428/segmentation.nii.gz  \n",
            " extracting: /content/kits_data_original/case_00022/imaging.nii.gz  \n",
            " extracting: /content/kits_data_original/case_00022/segmentation.nii.gz  \n",
            " extracting: /content/kits_data_original/case_00563/imaging.nii.gz  \n",
            " extracting: /content/kits_data_original/case_00563/segmentation.nii.gz  \n",
            " extracting: /content/kits_data_original/case_00247/imaging.nii.gz  \n",
            " extracting: /content/kits_data_original/case_00247/segmentation.nii.gz  \n",
            " extracting: /content/kits_data_original/case_00166/imaging.nii.gz  \n",
            " extracting: /content/kits_data_original/case_00166/segmentation.nii.gz  \n",
            " extracting: /content/kits_data_original/case_00259/imaging.nii.gz  \n",
            " extracting: /content/kits_data_original/case_00259/segmentation.nii.gz  \n",
            " extracting: /content/kits_data_original/case_00113/imaging.nii.gz  \n",
            " extracting: /content/kits_data_original/case_00113/segmentation.nii.gz  \n",
            " extracting: /content/kits_data_original/case_00256/imaging.nii.gz  \n",
            " extracting: /content/kits_data_original/case_00256/segmentation.nii.gz  \n",
            " extracting: /content/kits_data_original/case_00201/imaging.nii.gz  \n",
            " extracting: /content/kits_data_original/case_00201/segmentation.nii.gz  \n",
            " extracting: /content/kits_data_original/case_00237/imaging.nii.gz  \n",
            " extracting: /content/kits_data_original/case_00237/segmentation.nii.gz  \n",
            " extracting: /content/kits_data_original/case_00492/imaging.nii.gz  \n",
            " extracting: /content/kits_data_original/case_00492/segmentation.nii.gz  \n",
            " extracting: /content/kits_data_original/case_00475/imaging.nii.gz  \n",
            " extracting: /content/kits_data_original/case_00475/segmentation.nii.gz  \n",
            " extracting: /content/kits_data_original/case_00585/imaging.nii.gz  \n",
            " extracting: /content/kits_data_original/case_00585/segmentation.nii.gz  \n",
            " extracting: /content/kits_data_original/case_00066/imaging.nii.gz  \n",
            " extracting: /content/kits_data_original/case_00066/segmentation.nii.gz  \n",
            " extracting: /content/kits_data_original/case_00517/imaging.nii.gz  \n",
            " extracting: /content/kits_data_original/case_00517/segmentation.nii.gz  \n",
            " extracting: /content/kits_data_original/case_00427/imaging.nii.gz  \n",
            " extracting: /content/kits_data_original/case_00427/segmentation.nii.gz  \n",
            " extracting: /content/kits_data_original/case_00291/imaging.nii.gz  \n",
            " extracting: /content/kits_data_original/case_00291/segmentation.nii.gz  \n",
            " extracting: /content/kits_data_original/case_00020/imaging.nii.gz  \n",
            " extracting: /content/kits_data_original/case_00020/segmentation.nii.gz  \n",
            " extracting: /content/kits_data_original/case_00526/imaging.nii.gz  \n",
            " extracting: /content/kits_data_original/case_00526/segmentation.nii.gz  \n",
            " extracting: /content/kits_data_original/case_00221/imaging.nii.gz  \n",
            " extracting: /content/kits_data_original/case_00221/segmentation.nii.gz  \n",
            " extracting: /content/kits_data_original/case_00041/imaging.nii.gz  \n",
            " extracting: /content/kits_data_original/case_00041/segmentation.nii.gz  \n",
            " extracting: /content/kits_data_original/case_00504/imaging.nii.gz  \n",
            " extracting: /content/kits_data_original/case_00504/segmentation.nii.gz  \n",
            " extracting: /content/kits_data_original/case_00463/imaging.nii.gz  \n",
            " extracting: /content/kits_data_original/case_00463/segmentation.nii.gz  \n",
            " extracting: /content/kits_data_original/case_00552/imaging.nii.gz  \n",
            " extracting: /content/kits_data_original/case_00552/segmentation.nii.gz  \n",
            " extracting: /content/kits_data_original/case_00109/imaging.nii.gz  \n",
            " extracting: /content/kits_data_original/case_00109/segmentation.nii.gz  \n",
            " extracting: /content/kits_data_original/case_00023/imaging.nii.gz  \n",
            " extracting: /content/kits_data_original/case_00023/segmentation.nii.gz  \n",
            " extracting: /content/kits_data_original/case_00176/imaging.nii.gz  \n",
            " extracting: /content/kits_data_original/case_00176/segmentation.nii.gz  \n",
            " extracting: /content/kits_data_original/case_00007/imaging.nii.gz  \n",
            " extracting: /content/kits_data_original/case_00007/segmentation.nii.gz  \n",
            " extracting: /content/kits_data_original/case_00173/imaging.nii.gz  \n",
            " extracting: /content/kits_data_original/case_00173/segmentation.nii.gz  \n",
            " extracting: /content/kits_data_original/case_00527/imaging.nii.gz  \n",
            " extracting: /content/kits_data_original/case_00527/segmentation.nii.gz  \n",
            " extracting: /content/kits_data_original/case_00073/imaging.nii.gz  \n",
            " extracting: /content/kits_data_original/case_00073/segmentation.nii.gz  \n",
            " extracting: /content/kits_data_original/case_00039/imaging.nii.gz  \n",
            " extracting: /content/kits_data_original/case_00039/segmentation.nii.gz  \n",
            " extracting: /content/kits_data_original/case_00295/imaging.nii.gz  \n",
            " extracting: /content/kits_data_original/case_00295/segmentation.nii.gz  \n",
            " extracting: /content/kits_data_original/case_00453/imaging.nii.gz  \n",
            " extracting: /content/kits_data_original/case_00453/segmentation.nii.gz  \n",
            " extracting: /content/kits_data_original/case_00155/imaging.nii.gz  \n",
            " extracting: /content/kits_data_original/case_00155/segmentation.nii.gz  \n",
            " extracting: /content/kits_data_original/case_00064/imaging.nii.gz  \n",
            " extracting: /content/kits_data_original/case_00064/segmentation.nii.gz  \n",
            " extracting: /content/kits_data_original/case_00048/imaging.nii.gz  \n",
            " extracting: /content/kits_data_original/case_00048/segmentation.nii.gz  \n",
            " extracting: /content/kits_data_original/case_00112/imaging.nii.gz  \n",
            " extracting: /content/kits_data_original/case_00112/segmentation.nii.gz  \n",
            " extracting: /content/kits_data_original/case_00240/imaging.nii.gz  \n",
            " extracting: /content/kits_data_original/case_00240/segmentation.nii.gz  \n",
            " extracting: /content/kits_data_original/case_00215/imaging.nii.gz  \n",
            " extracting: /content/kits_data_original/case_00215/segmentation.nii.gz  \n",
            " extracting: /content/kits_data_original/case_00502/imaging.nii.gz  \n",
            " extracting: /content/kits_data_original/case_00502/segmentation.nii.gz  \n",
            " extracting: /content/kits_data_original/case_00104/imaging.nii.gz  \n",
            " extracting: /content/kits_data_original/case_00104/segmentation.nii.gz  \n",
            " extracting: /content/kits_data_original/case_00467/imaging.nii.gz  \n",
            " extracting: /content/kits_data_original/case_00467/segmentation.nii.gz  \n",
            " extracting: /content/kits_data_original/case_00483/imaging.nii.gz  \n",
            " extracting: /content/kits_data_original/case_00483/segmentation.nii.gz  \n",
            " extracting: /content/kits_data_original/case_00010/imaging.nii.gz  \n",
            " extracting: /content/kits_data_original/case_00010/segmentation.nii.gz  \n"
          ]
        }
      ],
      "source": [
        "!unzip /content/kits23modData.zip -d /content/kits_data_original\n",
        "!rm -rf /content/kits_data\n",
        "# !unzip 100\\ cases.zip -d /"
      ]
    },
    {
      "cell_type": "code",
      "source": [
        "import sys\n",
        "import os\n",
        "import shutil\n",
        "import numpy as np\n",
        "import nibabel as nib\n",
        "\n",
        "def round_labels(input_dir, output_dir):\n",
        "    # Iterate over files in the input directory\n",
        "    os.mkdir(output_dir)\n",
        "    for folder in os.listdir(input_dir):\n",
        "        if folder[:4]== 'case':\n",
        "            # if filename.endswith(\".nii.gz\"):\n",
        "            folderpath = os.path.join(input_dir,   folder)\n",
        "            os.makedirs(os.path.join(output_dir,folder))\n",
        "            for filename in os.listdir(folderpath):\n",
        "                input_file = os.path.join(input_dir,   folder, filename)\n",
        "                output_file = os.path.join(output_dir, folder, filename)\n",
        "                if filename == \"segmentation.nii.gz\":\n",
        "                    # Load the segmentation image\n",
        "                    img = nib.load(input_file)\n",
        "                    data = img.get_fdata()\n",
        "                    # Round the labels\n",
        "                    rounded_data = np.rint(data).astype(np.uint8)\n",
        "\n",
        "                    # Save the rounded labels to a new NIfTI file\n",
        "                    rounded_img = nib.Nifti1Image(rounded_data, img.affine, img.header)\n",
        "                    nib.save(rounded_img, output_file)\n",
        "                else:\n",
        "                    shutil.copyfile(input_file, output_file)\n",
        "        else:\n",
        "            print(\"Didn't enter folder\",folder)\n",
        "\n",
        "\n",
        "round_labels(\"/content/kits_data_original\", \"/content/kits_data\")"
      ],
      "metadata": {
        "id": "kp-ft4CugTdi"
      },
      "execution_count": 16,
      "outputs": []
    },
    {
      "cell_type": "code",
      "source": [
        "import nibabel as nib\n",
        "import os\n",
        "\n",
        "\n",
        "def modify_segmentation_file(seg_file_path):\n",
        "    # load the image\n",
        "    img = nib.load(seg_file_path)\n",
        "    # get the image data\n",
        "    data = img.get_fdata()\n",
        "    # change segmentation lavels\n",
        "    data[data != 2] = 0\n",
        "    data[data == 2] = 1\n",
        "    # create the new image\n",
        "    modified_img = nib.Nifti1Image(data, img.affine, img.header)\n",
        "    # delete the old file\n",
        "    os.remove(seg_file_path)\n",
        "    print(\"Removed \" + seg_file_path)\n",
        "    # save the image\n",
        "    nib.save(modified_img, seg_file_path)\n",
        "    print(\"saved new \" + seg_file_path)\n",
        "\n",
        "\n",
        "cases_dir = '/content/kits_data'\n",
        "# Iterate over all folders in cases_dir\n",
        "for root, dirs, files in os.walk(cases_dir):\n",
        "    for file in files:\n",
        "        if file == \"segmentation.nii.gz\":\n",
        "            seg_file_path = os.path.join(root, file)\n",
        "            modify_segmentation_file(seg_file_path)\n",
        "\n"
      ],
      "metadata": {
        "id": "-b_62YLDgVr1",
        "outputId": "c42b5075-5739-442e-8f5d-0b048e75e955",
        "colab": {
          "base_uri": "https://localhost:8080/"
        }
      },
      "execution_count": 17,
      "outputs": [
        {
          "output_type": "stream",
          "name": "stdout",
          "text": [
            "Removed /content/kits_data/case_00109/segmentation.nii.gz\n",
            "saved new /content/kits_data/case_00109/segmentation.nii.gz\n",
            "Removed /content/kits_data/case_00166/segmentation.nii.gz\n",
            "saved new /content/kits_data/case_00166/segmentation.nii.gz\n",
            "Removed /content/kits_data/case_00504/segmentation.nii.gz\n",
            "saved new /content/kits_data/case_00504/segmentation.nii.gz\n",
            "Removed /content/kits_data/case_00029/segmentation.nii.gz\n",
            "saved new /content/kits_data/case_00029/segmentation.nii.gz\n",
            "Removed /content/kits_data/case_00065/segmentation.nii.gz\n",
            "saved new /content/kits_data/case_00065/segmentation.nii.gz\n",
            "Removed /content/kits_data/case_00064/segmentation.nii.gz\n",
            "saved new /content/kits_data/case_00064/segmentation.nii.gz\n",
            "Removed /content/kits_data/case_00235/segmentation.nii.gz\n",
            "saved new /content/kits_data/case_00235/segmentation.nii.gz\n",
            "Removed /content/kits_data/case_00427/segmentation.nii.gz\n",
            "saved new /content/kits_data/case_00427/segmentation.nii.gz\n",
            "Removed /content/kits_data/case_00503/segmentation.nii.gz\n",
            "saved new /content/kits_data/case_00503/segmentation.nii.gz\n",
            "Removed /content/kits_data/case_00052/segmentation.nii.gz\n",
            "saved new /content/kits_data/case_00052/segmentation.nii.gz\n",
            "Removed /content/kits_data/case_00515/segmentation.nii.gz\n",
            "saved new /content/kits_data/case_00515/segmentation.nii.gz\n",
            "Removed /content/kits_data/case_00129/segmentation.nii.gz\n",
            "saved new /content/kits_data/case_00129/segmentation.nii.gz\n",
            "Removed /content/kits_data/case_00066/segmentation.nii.gz\n",
            "saved new /content/kits_data/case_00066/segmentation.nii.gz\n",
            "Removed /content/kits_data/case_00502/segmentation.nii.gz\n",
            "saved new /content/kits_data/case_00502/segmentation.nii.gz\n",
            "Removed /content/kits_data/case_00211/segmentation.nii.gz\n",
            "saved new /content/kits_data/case_00211/segmentation.nii.gz\n",
            "Removed /content/kits_data/case_00135/segmentation.nii.gz\n",
            "saved new /content/kits_data/case_00135/segmentation.nii.gz\n",
            "Removed /content/kits_data/case_00475/segmentation.nii.gz\n",
            "saved new /content/kits_data/case_00475/segmentation.nii.gz\n",
            "Removed /content/kits_data/case_00012/segmentation.nii.gz\n",
            "saved new /content/kits_data/case_00012/segmentation.nii.gz\n",
            "Removed /content/kits_data/case_00093/segmentation.nii.gz\n",
            "saved new /content/kits_data/case_00093/segmentation.nii.gz\n",
            "Removed /content/kits_data/case_00437/segmentation.nii.gz\n",
            "saved new /content/kits_data/case_00437/segmentation.nii.gz\n",
            "Removed /content/kits_data/case_00173/segmentation.nii.gz\n",
            "saved new /content/kits_data/case_00173/segmentation.nii.gz\n",
            "Removed /content/kits_data/case_00084/segmentation.nii.gz\n",
            "saved new /content/kits_data/case_00084/segmentation.nii.gz\n",
            "Removed /content/kits_data/case_00046/segmentation.nii.gz\n",
            "saved new /content/kits_data/case_00046/segmentation.nii.gz\n",
            "Removed /content/kits_data/case_00290/segmentation.nii.gz\n",
            "saved new /content/kits_data/case_00290/segmentation.nii.gz\n",
            "Removed /content/kits_data/case_00547/segmentation.nii.gz\n",
            "saved new /content/kits_data/case_00547/segmentation.nii.gz\n",
            "Removed /content/kits_data/case_00106/segmentation.nii.gz\n",
            "saved new /content/kits_data/case_00106/segmentation.nii.gz\n",
            "Removed /content/kits_data/case_00207/segmentation.nii.gz\n",
            "saved new /content/kits_data/case_00207/segmentation.nii.gz\n",
            "Removed /content/kits_data/case_00114/segmentation.nii.gz\n",
            "saved new /content/kits_data/case_00114/segmentation.nii.gz\n",
            "Removed /content/kits_data/case_00526/segmentation.nii.gz\n",
            "saved new /content/kits_data/case_00526/segmentation.nii.gz\n",
            "Removed /content/kits_data/case_00097/segmentation.nii.gz\n",
            "saved new /content/kits_data/case_00097/segmentation.nii.gz\n",
            "Removed /content/kits_data/case_00104/segmentation.nii.gz\n",
            "saved new /content/kits_data/case_00104/segmentation.nii.gz\n",
            "Removed /content/kits_data/case_00259/segmentation.nii.gz\n",
            "saved new /content/kits_data/case_00259/segmentation.nii.gz\n",
            "Removed /content/kits_data/case_00492/segmentation.nii.gz\n",
            "saved new /content/kits_data/case_00492/segmentation.nii.gz\n",
            "Removed /content/kits_data/case_00463/segmentation.nii.gz\n",
            "saved new /content/kits_data/case_00463/segmentation.nii.gz\n",
            "Removed /content/kits_data/case_00131/segmentation.nii.gz\n",
            "saved new /content/kits_data/case_00131/segmentation.nii.gz\n",
            "Removed /content/kits_data/case_00256/segmentation.nii.gz\n",
            "saved new /content/kits_data/case_00256/segmentation.nii.gz\n",
            "Removed /content/kits_data/case_00542/segmentation.nii.gz\n",
            "saved new /content/kits_data/case_00542/segmentation.nii.gz\n",
            "Removed /content/kits_data/case_00023/segmentation.nii.gz\n",
            "saved new /content/kits_data/case_00023/segmentation.nii.gz\n",
            "Removed /content/kits_data/case_00446/segmentation.nii.gz\n",
            "saved new /content/kits_data/case_00446/segmentation.nii.gz\n",
            "Removed /content/kits_data/case_00221/segmentation.nii.gz\n",
            "saved new /content/kits_data/case_00221/segmentation.nii.gz\n",
            "Removed /content/kits_data/case_00099/segmentation.nii.gz\n",
            "saved new /content/kits_data/case_00099/segmentation.nii.gz\n",
            "Removed /content/kits_data/case_00010/segmentation.nii.gz\n",
            "saved new /content/kits_data/case_00010/segmentation.nii.gz\n",
            "Removed /content/kits_data/case_00517/segmentation.nii.gz\n",
            "saved new /content/kits_data/case_00517/segmentation.nii.gz\n",
            "Removed /content/kits_data/case_00569/segmentation.nii.gz\n",
            "saved new /content/kits_data/case_00569/segmentation.nii.gz\n",
            "Removed /content/kits_data/case_00223/segmentation.nii.gz\n",
            "saved new /content/kits_data/case_00223/segmentation.nii.gz\n",
            "Removed /content/kits_data/case_00583/segmentation.nii.gz\n",
            "saved new /content/kits_data/case_00583/segmentation.nii.gz\n",
            "Removed /content/kits_data/case_00073/segmentation.nii.gz\n",
            "saved new /content/kits_data/case_00073/segmentation.nii.gz\n",
            "Removed /content/kits_data/case_00007/segmentation.nii.gz\n",
            "saved new /content/kits_data/case_00007/segmentation.nii.gz\n",
            "Removed /content/kits_data/case_00140/segmentation.nii.gz\n",
            "saved new /content/kits_data/case_00140/segmentation.nii.gz\n",
            "Removed /content/kits_data/case_00016/segmentation.nii.gz\n",
            "saved new /content/kits_data/case_00016/segmentation.nii.gz\n",
            "Removed /content/kits_data/case_00474/segmentation.nii.gz\n",
            "saved new /content/kits_data/case_00474/segmentation.nii.gz\n",
            "Removed /content/kits_data/case_00041/segmentation.nii.gz\n",
            "saved new /content/kits_data/case_00041/segmentation.nii.gz\n",
            "Removed /content/kits_data/case_00152/segmentation.nii.gz\n",
            "saved new /content/kits_data/case_00152/segmentation.nii.gz\n",
            "Removed /content/kits_data/case_00212/segmentation.nii.gz\n",
            "saved new /content/kits_data/case_00212/segmentation.nii.gz\n",
            "Removed /content/kits_data/case_00527/segmentation.nii.gz\n",
            "saved new /content/kits_data/case_00527/segmentation.nii.gz\n",
            "Removed /content/kits_data/case_00551/segmentation.nii.gz\n",
            "saved new /content/kits_data/case_00551/segmentation.nii.gz\n",
            "Removed /content/kits_data/case_00248/segmentation.nii.gz\n",
            "saved new /content/kits_data/case_00248/segmentation.nii.gz\n",
            "Removed /content/kits_data/case_00229/segmentation.nii.gz\n",
            "saved new /content/kits_data/case_00229/segmentation.nii.gz\n",
            "Removed /content/kits_data/case_00585/segmentation.nii.gz\n",
            "saved new /content/kits_data/case_00585/segmentation.nii.gz\n",
            "Removed /content/kits_data/case_00118/segmentation.nii.gz\n",
            "saved new /content/kits_data/case_00118/segmentation.nii.gz\n",
            "Removed /content/kits_data/case_00201/segmentation.nii.gz\n",
            "saved new /content/kits_data/case_00201/segmentation.nii.gz\n",
            "Removed /content/kits_data/case_00113/segmentation.nii.gz\n",
            "saved new /content/kits_data/case_00113/segmentation.nii.gz\n",
            "Removed /content/kits_data/case_00453/segmentation.nii.gz\n",
            "saved new /content/kits_data/case_00453/segmentation.nii.gz\n",
            "Removed /content/kits_data/case_00563/segmentation.nii.gz\n",
            "saved new /content/kits_data/case_00563/segmentation.nii.gz\n",
            "Removed /content/kits_data/case_00428/segmentation.nii.gz\n",
            "saved new /content/kits_data/case_00428/segmentation.nii.gz\n",
            "Removed /content/kits_data/case_00467/segmentation.nii.gz\n",
            "saved new /content/kits_data/case_00467/segmentation.nii.gz\n",
            "Removed /content/kits_data/case_00039/segmentation.nii.gz\n",
            "saved new /content/kits_data/case_00039/segmentation.nii.gz\n",
            "Removed /content/kits_data/case_00022/segmentation.nii.gz\n",
            "saved new /content/kits_data/case_00022/segmentation.nii.gz\n",
            "Removed /content/kits_data/case_00247/segmentation.nii.gz\n",
            "saved new /content/kits_data/case_00247/segmentation.nii.gz\n",
            "Removed /content/kits_data/case_00081/segmentation.nii.gz\n",
            "saved new /content/kits_data/case_00081/segmentation.nii.gz\n",
            "Removed /content/kits_data/case_00237/segmentation.nii.gz\n",
            "saved new /content/kits_data/case_00237/segmentation.nii.gz\n",
            "Removed /content/kits_data/case_00291/segmentation.nii.gz\n",
            "saved new /content/kits_data/case_00291/segmentation.nii.gz\n",
            "Removed /content/kits_data/case_00507/segmentation.nii.gz\n",
            "saved new /content/kits_data/case_00507/segmentation.nii.gz\n",
            "Removed /content/kits_data/case_00570/segmentation.nii.gz\n",
            "saved new /content/kits_data/case_00570/segmentation.nii.gz\n",
            "Removed /content/kits_data/case_00226/segmentation.nii.gz\n",
            "saved new /content/kits_data/case_00226/segmentation.nii.gz\n",
            "Removed /content/kits_data/case_00280/segmentation.nii.gz\n",
            "saved new /content/kits_data/case_00280/segmentation.nii.gz\n",
            "Removed /content/kits_data/case_00565/segmentation.nii.gz\n",
            "saved new /content/kits_data/case_00565/segmentation.nii.gz\n",
            "Removed /content/kits_data/case_00276/segmentation.nii.gz\n",
            "saved new /content/kits_data/case_00276/segmentation.nii.gz\n",
            "Removed /content/kits_data/case_00566/segmentation.nii.gz\n",
            "saved new /content/kits_data/case_00566/segmentation.nii.gz\n",
            "Removed /content/kits_data/case_00171/segmentation.nii.gz\n",
            "saved new /content/kits_data/case_00171/segmentation.nii.gz\n",
            "Removed /content/kits_data/case_00132/segmentation.nii.gz\n",
            "saved new /content/kits_data/case_00132/segmentation.nii.gz\n",
            "Removed /content/kits_data/case_00112/segmentation.nii.gz\n",
            "saved new /content/kits_data/case_00112/segmentation.nii.gz\n",
            "Removed /content/kits_data/case_00519/segmentation.nii.gz\n",
            "saved new /content/kits_data/case_00519/segmentation.nii.gz\n",
            "Removed /content/kits_data/case_00048/segmentation.nii.gz\n",
            "saved new /content/kits_data/case_00048/segmentation.nii.gz\n",
            "Removed /content/kits_data/case_00215/segmentation.nii.gz\n",
            "saved new /content/kits_data/case_00215/segmentation.nii.gz\n",
            "Removed /content/kits_data/case_00155/segmentation.nii.gz\n",
            "saved new /content/kits_data/case_00155/segmentation.nii.gz\n",
            "Removed /content/kits_data/case_00483/segmentation.nii.gz\n",
            "saved new /content/kits_data/case_00483/segmentation.nii.gz\n",
            "Removed /content/kits_data/case_00176/segmentation.nii.gz\n",
            "saved new /content/kits_data/case_00176/segmentation.nii.gz\n",
            "Removed /content/kits_data/case_00273/segmentation.nii.gz\n",
            "saved new /content/kits_data/case_00273/segmentation.nii.gz\n",
            "Removed /content/kits_data/case_00240/segmentation.nii.gz\n",
            "saved new /content/kits_data/case_00240/segmentation.nii.gz\n",
            "Removed /content/kits_data/case_00179/segmentation.nii.gz\n",
            "saved new /content/kits_data/case_00179/segmentation.nii.gz\n",
            "Removed /content/kits_data/case_00271/segmentation.nii.gz\n",
            "saved new /content/kits_data/case_00271/segmentation.nii.gz\n",
            "Removed /content/kits_data/case_00020/segmentation.nii.gz\n",
            "saved new /content/kits_data/case_00020/segmentation.nii.gz\n",
            "Removed /content/kits_data/case_00552/segmentation.nii.gz\n",
            "saved new /content/kits_data/case_00552/segmentation.nii.gz\n",
            "Removed /content/kits_data/case_00295/segmentation.nii.gz\n",
            "saved new /content/kits_data/case_00295/segmentation.nii.gz\n",
            "Removed /content/kits_data/case_00137/segmentation.nii.gz\n",
            "saved new /content/kits_data/case_00137/segmentation.nii.gz\n",
            "Removed /content/kits_data/case_00164/segmentation.nii.gz\n",
            "saved new /content/kits_data/case_00164/segmentation.nii.gz\n",
            "Removed /content/kits_data/case_00178/segmentation.nii.gz\n",
            "saved new /content/kits_data/case_00178/segmentation.nii.gz\n",
            "Removed /content/kits_data/case_00297/segmentation.nii.gz\n",
            "saved new /content/kits_data/case_00297/segmentation.nii.gz\n",
            "Removed /content/kits_data/case_00491/segmentation.nii.gz\n",
            "saved new /content/kits_data/case_00491/segmentation.nii.gz\n"
          ]
        }
      ]
    },
    {
      "cell_type": "code",
      "execution_count": 18,
      "metadata": {
        "colab": {
          "base_uri": "https://localhost:8080/"
        },
        "id": "eKFYyb_fypv9",
        "outputId": "7562ce17-e22a-4e6c-c05f-1141c65e26c5"
      },
      "outputs": [
        {
          "output_type": "stream",
          "name": "stdout",
          "text": [
            "Imaging file for case_00109 moved successfully.\n",
            "Segmentation file for case_00109 moved successfully.\n",
            "Imaging file for case_00166 moved successfully.\n",
            "Segmentation file for case_00166 moved successfully.\n",
            "Imaging file for case_00504 moved successfully.\n",
            "Segmentation file for case_00504 moved successfully.\n",
            "Imaging file for case_00029 moved successfully.\n",
            "Segmentation file for case_00029 moved successfully.\n",
            "Imaging file for case_00065 moved successfully.\n",
            "Segmentation file for case_00065 moved successfully.\n",
            "Imaging file for case_00064 moved successfully.\n",
            "Segmentation file for case_00064 moved successfully.\n",
            "Imaging file for case_00235 moved successfully.\n",
            "Segmentation file for case_00235 moved successfully.\n",
            "Imaging file for case_00427 moved successfully.\n",
            "Segmentation file for case_00427 moved successfully.\n",
            "Imaging file for case_00503 moved successfully.\n",
            "Segmentation file for case_00503 moved successfully.\n",
            "Imaging file for case_00052 moved successfully.\n",
            "Segmentation file for case_00052 moved successfully.\n",
            "Imaging file for case_00515 moved successfully.\n",
            "Segmentation file for case_00515 moved successfully.\n",
            "Imaging file for case_00129 moved successfully.\n",
            "Segmentation file for case_00129 moved successfully.\n",
            "Imaging file for case_00066 moved successfully.\n",
            "Segmentation file for case_00066 moved successfully.\n",
            "Imaging file for case_00502 moved successfully.\n",
            "Segmentation file for case_00502 moved successfully.\n",
            "Imaging file for case_00211 moved successfully.\n",
            "Segmentation file for case_00211 moved successfully.\n",
            "Imaging file for case_00135 moved successfully.\n",
            "Segmentation file for case_00135 moved successfully.\n",
            "Imaging file for case_00475 moved successfully.\n",
            "Segmentation file for case_00475 moved successfully.\n",
            "Imaging file for case_00012 moved successfully.\n",
            "Segmentation file for case_00012 moved successfully.\n",
            "Imaging file for case_00093 moved successfully.\n",
            "Segmentation file for case_00093 moved successfully.\n",
            "Imaging file for case_00437 moved successfully.\n",
            "Segmentation file for case_00437 moved successfully.\n",
            "Imaging file for case_00173 moved successfully.\n",
            "Segmentation file for case_00173 moved successfully.\n",
            "Imaging file for case_00084 moved successfully.\n",
            "Segmentation file for case_00084 moved successfully.\n",
            "Imaging file for case_00046 moved successfully.\n",
            "Segmentation file for case_00046 moved successfully.\n",
            "Imaging file for case_00290 moved successfully.\n",
            "Segmentation file for case_00290 moved successfully.\n",
            "Imaging file for case_00547 moved successfully.\n",
            "Segmentation file for case_00547 moved successfully.\n",
            "Imaging file for case_00106 moved successfully.\n",
            "Segmentation file for case_00106 moved successfully.\n",
            "Imaging file for case_00207 moved successfully.\n",
            "Segmentation file for case_00207 moved successfully.\n",
            "Imaging file for case_00114 moved successfully.\n",
            "Segmentation file for case_00114 moved successfully.\n",
            "Imaging file for case_00526 moved successfully.\n",
            "Segmentation file for case_00526 moved successfully.\n",
            "Imaging file for case_00097 moved successfully.\n",
            "Segmentation file for case_00097 moved successfully.\n",
            "Imaging file for case_00104 moved successfully.\n",
            "Segmentation file for case_00104 moved successfully.\n",
            "Imaging file for case_00259 moved successfully.\n",
            "Segmentation file for case_00259 moved successfully.\n",
            "Imaging file for case_00492 moved successfully.\n",
            "Segmentation file for case_00492 moved successfully.\n",
            "Imaging file for case_00463 moved successfully.\n",
            "Segmentation file for case_00463 moved successfully.\n",
            "Imaging file for case_00131 moved successfully.\n",
            "Segmentation file for case_00131 moved successfully.\n",
            "Imaging file for case_00256 moved successfully.\n",
            "Segmentation file for case_00256 moved successfully.\n",
            "Imaging file for case_00542 moved successfully.\n",
            "Segmentation file for case_00542 moved successfully.\n",
            "Imaging file for case_00023 moved successfully.\n",
            "Segmentation file for case_00023 moved successfully.\n",
            "Imaging file for case_00446 moved successfully.\n",
            "Segmentation file for case_00446 moved successfully.\n",
            "Imaging file for case_00221 moved successfully.\n",
            "Segmentation file for case_00221 moved successfully.\n",
            "Imaging file for case_00099 moved successfully.\n",
            "Segmentation file for case_00099 moved successfully.\n",
            "Imaging file for case_00010 moved successfully.\n",
            "Segmentation file for case_00010 moved successfully.\n",
            "Imaging file for case_00517 moved successfully.\n",
            "Segmentation file for case_00517 moved successfully.\n",
            "Imaging file for case_00569 moved successfully.\n",
            "Segmentation file for case_00569 moved successfully.\n",
            "Imaging file for case_00223 moved successfully.\n",
            "Segmentation file for case_00223 moved successfully.\n",
            "Imaging file for case_00583 moved successfully.\n",
            "Segmentation file for case_00583 moved successfully.\n",
            "Imaging file for case_00073 moved successfully.\n",
            "Segmentation file for case_00073 moved successfully.\n",
            "Imaging file for case_00007 moved successfully.\n",
            "Segmentation file for case_00007 moved successfully.\n",
            "Imaging file for case_00140 moved successfully.\n",
            "Segmentation file for case_00140 moved successfully.\n",
            "Imaging file for case_00016 moved successfully.\n",
            "Segmentation file for case_00016 moved successfully.\n",
            "Imaging file for case_00474 moved successfully.\n",
            "Segmentation file for case_00474 moved successfully.\n",
            "Imaging file for case_00041 moved successfully.\n",
            "Segmentation file for case_00041 moved successfully.\n",
            "Imaging file for case_00152 moved successfully.\n",
            "Segmentation file for case_00152 moved successfully.\n",
            "Imaging file for case_00212 moved successfully.\n",
            "Segmentation file for case_00212 moved successfully.\n",
            "Imaging file for case_00527 moved successfully.\n",
            "Segmentation file for case_00527 moved successfully.\n",
            "Imaging file for case_00551 moved successfully.\n",
            "Segmentation file for case_00551 moved successfully.\n",
            "Imaging file for case_00248 moved successfully.\n",
            "Segmentation file for case_00248 moved successfully.\n",
            "Imaging file for case_00229 moved successfully.\n",
            "Segmentation file for case_00229 moved successfully.\n",
            "Imaging file for case_00585 moved successfully.\n",
            "Segmentation file for case_00585 moved successfully.\n",
            "Imaging file for case_00118 moved successfully.\n",
            "Segmentation file for case_00118 moved successfully.\n",
            "Imaging file for case_00201 moved successfully.\n",
            "Segmentation file for case_00201 moved successfully.\n",
            "Imaging file for case_00113 moved successfully.\n",
            "Segmentation file for case_00113 moved successfully.\n",
            "Imaging file for case_00453 moved successfully.\n",
            "Segmentation file for case_00453 moved successfully.\n",
            "Imaging file for case_00563 moved successfully.\n",
            "Segmentation file for case_00563 moved successfully.\n",
            "Imaging file for case_00428 moved successfully.\n",
            "Segmentation file for case_00428 moved successfully.\n",
            "Imaging file for case_00467 moved successfully.\n",
            "Segmentation file for case_00467 moved successfully.\n",
            "Imaging file for case_00039 moved successfully.\n",
            "Segmentation file for case_00039 moved successfully.\n",
            "Imaging file for case_00022 moved successfully.\n",
            "Segmentation file for case_00022 moved successfully.\n",
            "Imaging file for case_00247 moved successfully.\n",
            "Segmentation file for case_00247 moved successfully.\n",
            "Imaging file for case_00081 moved successfully.\n",
            "Segmentation file for case_00081 moved successfully.\n",
            "Imaging file for case_00237 moved successfully.\n",
            "Segmentation file for case_00237 moved successfully.\n",
            "Imaging file for case_00291 moved successfully.\n",
            "Segmentation file for case_00291 moved successfully.\n",
            "Imaging file for case_00507 moved successfully.\n",
            "Segmentation file for case_00507 moved successfully.\n",
            "Imaging file for case_00570 moved successfully.\n",
            "Segmentation file for case_00570 moved successfully.\n",
            "Imaging file for case_00226 moved successfully.\n",
            "Segmentation file for case_00226 moved successfully.\n",
            "Imaging file for case_00280 moved successfully.\n",
            "Segmentation file for case_00280 moved successfully.\n",
            "Imaging file for case_00565 moved successfully.\n",
            "Segmentation file for case_00565 moved successfully.\n",
            "Imaging file for case_00276 moved successfully.\n",
            "Segmentation file for case_00276 moved successfully.\n",
            "Imaging file for case_00566 moved successfully.\n",
            "Segmentation file for case_00566 moved successfully.\n",
            "Imaging file for case_00171 moved successfully.\n",
            "Segmentation file for case_00171 moved successfully.\n",
            "Imaging file for case_00132 moved successfully.\n",
            "Segmentation file for case_00132 moved successfully.\n",
            "Imaging file for case_00112 moved successfully.\n",
            "Segmentation file for case_00112 moved successfully.\n",
            "Imaging file for case_00519 moved successfully.\n",
            "Segmentation file for case_00519 moved successfully.\n",
            "Imaging file for case_00048 moved successfully.\n",
            "Segmentation file for case_00048 moved successfully.\n",
            "Imaging file for case_00215 moved successfully.\n",
            "Segmentation file for case_00215 moved successfully.\n",
            "Imaging file for case_00155 moved successfully.\n",
            "Segmentation file for case_00155 moved successfully.\n",
            "Imaging file for case_00483 moved successfully.\n",
            "Segmentation file for case_00483 moved successfully.\n",
            "Imaging file for case_00176 moved successfully.\n",
            "Segmentation file for case_00176 moved successfully.\n",
            "Imaging file for case_00273 moved successfully.\n",
            "Segmentation file for case_00273 moved successfully.\n",
            "Imaging file for case_00240 moved successfully.\n",
            "Segmentation file for case_00240 moved successfully.\n",
            "Imaging file for case_00179 moved successfully.\n",
            "Segmentation file for case_00179 moved successfully.\n",
            "Imaging file for case_00271 moved successfully.\n",
            "Segmentation file for case_00271 moved successfully.\n",
            "Imaging file for case_00020 moved successfully.\n",
            "Segmentation file for case_00020 moved successfully.\n",
            "Imaging file for case_00552 moved successfully.\n",
            "Segmentation file for case_00552 moved successfully.\n",
            "Imaging file for case_00295 moved successfully.\n",
            "Segmentation file for case_00295 moved successfully.\n",
            "Imaging file for case_00137 moved successfully.\n",
            "Segmentation file for case_00137 moved successfully.\n",
            "Imaging file for case_00164 moved successfully.\n",
            "Segmentation file for case_00164 moved successfully.\n",
            "Imaging file for case_00178 moved successfully.\n",
            "Segmentation file for case_00178 moved successfully.\n",
            "Imaging file for case_00297 moved successfully.\n",
            "Segmentation file for case_00297 moved successfully.\n",
            "Imaging file for case_00491 moved successfully.\n",
            "Segmentation file for case_00491 moved successfully.\n"
          ]
        }
      ],
      "source": [
        "import os\n",
        "import shutil\n",
        "\n",
        "# Define the paths to the source and destination folders\n",
        "# source_folder = \"/content/50 cases\"\n",
        "source_folder = \"/content/kits_data\"\n",
        "destination_train_folder = \"/content/nnUNet_raw/Dataset007_Kidney/imagesTr\"\n",
        "destination_test_folder = \"/content/nnUNet_raw/Dataset007_Kidney/labelsTr\"\n",
        "\n",
        "# Create destination folders if they don't exist\n",
        "os.makedirs(destination_train_folder, exist_ok=True)\n",
        "os.makedirs(destination_test_folder, exist_ok=True)\n",
        "\n",
        "# Iterate through each folder in the source directory\n",
        "for case_folder in os.listdir(source_folder):\n",
        "    case_folder_path = os.path.join(source_folder, case_folder)\n",
        "\n",
        "    # Check if the item in the source folder is a directory\n",
        "    if os.path.isdir(case_folder_path):\n",
        "        # Find the imaging.nii.gz and segmentation.nii.gz files\n",
        "        imaging_file = os.path.join(case_folder_path, \"imaging.nii.gz\")\n",
        "        segmentation_file = os.path.join(case_folder_path, \"segmentation.nii.gz\")\n",
        "\n",
        "        # Check if both files exist\n",
        "        if os.path.exists(imaging_file) and os.path.exists(segmentation_file):\n",
        "            # Rename and move the imaging file to the training folder\n",
        "            new_imaging_file = os.path.join(destination_train_folder, f\"{case_folder}_0000.nii.gz\")\n",
        "            try:\n",
        "                shutil.move(imaging_file, new_imaging_file)\n",
        "                print(f\"Imaging file for {case_folder} moved successfully.\")\n",
        "            except FileNotFoundError:\n",
        "                print(f\"Error: Imaging file not found for {case_folder}. Skipping...\")\n",
        "\n",
        "            # Rename and move the segmentation file to the testing folder\n",
        "            new_segmentation_file = os.path.join(destination_test_folder, f\"{case_folder}.nii.gz\")\n",
        "            try:\n",
        "                shutil.move(segmentation_file, new_segmentation_file)\n",
        "                print(f\"Segmentation file for {case_folder} moved successfully.\")\n",
        "            except FileNotFoundError:\n",
        "                print(f\"Error: Segmentation file not found for {case_folder}. Skipping...\")\n",
        "        else:\n",
        "            print(f\"Files not found in {case_folder}. Skipping...\")\n"
      ]
    },
    {
      "cell_type": "markdown",
      "metadata": {
        "id": "C-WAYHlW4zry"
      },
      "source": [
        "Needed to redunce the number of workers for colab free. (`-np 4`. The default is 4 or 8 depending on the subtask)"
      ]
    },
    {
      "cell_type": "code",
      "execution_count": 19,
      "metadata": {
        "id": "1C-SsTqE7mQW",
        "outputId": "7dbfc41a-0b39-4f4c-a217-1f7cded11a6d",
        "colab": {
          "base_uri": "https://localhost:8080/"
        }
      },
      "outputs": [
        {
          "output_type": "stream",
          "name": "stdout",
          "text": [
            "JSON file saved to: /content/nnUNet_raw/Dataset007_Kidney/dataset.json\n"
          ]
        }
      ],
      "source": [
        "import json\n",
        "\n",
        "# Define the dataset information\n",
        "dataset_info = {\n",
        "    \"channel_names\": {\n",
        "        \"0\": \"CT\"\n",
        "    },\n",
        "    \"labels\": {\n",
        "        \"background\": 0,\n",
        "        # \"kidney\": [1, 2, 3],\n",
        "        # \"kidney\": [1,2],\n",
        "        # \"masses\": [2, 3],\n",
        "        \"tumor\": 1\n",
        "    },\n",
        "    \"numTraining\": 139,\n",
        "    \"file_ending\": \".nii.gz\",\n",
        "    \"overwrite_image_reader_writer\": \"NibabelIOWithReorient\",\n",
        "    # \"regions_class_order\": [1, 3, 2]\n",
        "    \"regions_class_order\": [1, 2]\n",
        "}\n",
        "\n",
        "# Define the file path for saving the JSON file\n",
        "output_file = '/content/nnUNet_raw/Dataset007_Kidney/dataset.json'\n",
        "\n",
        "# Write the dataset information to the JSON file\n",
        "with open(output_file, 'w') as json_file:\n",
        "    json.dump(dataset_info, json_file, indent=4)\n",
        "\n",
        "print(f\"JSON file saved to: {output_file}\")\n"
      ]
    },
    {
      "cell_type": "code",
      "execution_count": 22,
      "metadata": {
        "id": "q-dZFYRlwja-",
        "outputId": "3c38ac3e-1e42-4095-981d-a649d03dd782",
        "colab": {
          "base_uri": "https://localhost:8080/"
        }
      },
      "outputs": [
        {
          "output_type": "stream",
          "name": "stdout",
          "text": [
            "Fingerprint extraction...\n",
            "Dataset007_Kidney\n",
            "Using <class 'nnunetv2.imageio.nibabel_reader_writer.NibabelIOWithReorient'> reader/writer\n",
            "Error: Unexpected labels found in file /content/nnUNet_raw/Dataset007_Kidney/labelsTr/case_00011.nii.gz.\n",
            "Expected: [0, 1]\n",
            "Found: [0. 1. 2.]\n",
            "Error: Unexpected labels found in file /content/nnUNet_raw/Dataset007_Kidney/labelsTr/case_00015.nii.gz.\n",
            "Expected: [0, 1]\n",
            "Found: [0. 1. 2. 3.]\n",
            "Error: Unexpected labels found in file /content/nnUNet_raw/Dataset007_Kidney/labelsTr/case_00021.nii.gz.\n",
            "Expected: [0, 1]\n",
            "Found: [0. 1. 2. 3.]\n",
            "Error: Unexpected labels found in file /content/nnUNet_raw/Dataset007_Kidney/labelsTr/case_00030.nii.gz.\n",
            "Expected: [0, 1]\n",
            "Found: [0. 1. 2. 3.]\n",
            "Error: Unexpected labels found in file /content/nnUNet_raw/Dataset007_Kidney/labelsTr/case_00025.nii.gz.\n",
            "Expected: [0, 1]\n",
            "Found: [0. 1. 2.]\n",
            "Error: Unexpected labels found in file /content/nnUNet_raw/Dataset007_Kidney/labelsTr/case_00013.nii.gz.\n",
            "Expected: [0, 1]\n",
            "Found: [0. 1. 2.]\n",
            "Error: Unexpected labels found in file /content/nnUNet_raw/Dataset007_Kidney/labelsTr/case_00031.nii.gz.\n",
            "Expected: [0, 1]\n",
            "Found: [0. 1. 2.]\n",
            "Error: Unexpected labels found in file /content/nnUNet_raw/Dataset007_Kidney/labelsTr/case_00035.nii.gz.\n",
            "Expected: [0, 1]\n",
            "Found: [0. 1. 2.]\n",
            "Error: Unexpected labels found in file /content/nnUNet_raw/Dataset007_Kidney/labelsTr/case_00017.nii.gz.\n",
            "Expected: [0, 1]\n",
            "Found: [0. 1. 2.]\n",
            "Error: Unexpected labels found in file /content/nnUNet_raw/Dataset007_Kidney/labelsTr/case_00018.nii.gz.\n",
            "Expected: [0, 1]\n",
            "Found: [0. 1. 2.]\n",
            "Error: Unexpected labels found in file /content/nnUNet_raw/Dataset007_Kidney/labelsTr/case_00036.nii.gz.\n",
            "Expected: [0, 1]\n",
            "Found: [0. 1. 2.]\n",
            "Error: Unexpected labels found in file /content/nnUNet_raw/Dataset007_Kidney/labelsTr/case_00032.nii.gz.\n",
            "Expected: [0, 1]\n",
            "Found: [0. 1. 2. 3.]\n",
            "Error: Unexpected labels found in file /content/nnUNet_raw/Dataset007_Kidney/labelsTr/case_00000.nii.gz.\n",
            "Expected: [0, 1]\n",
            "Found: [0. 1. 2.]\n",
            "Error: Unexpected labels found in file /content/nnUNet_raw/Dataset007_Kidney/labelsTr/case_00026.nii.gz.\n",
            "Expected: [0, 1]\n",
            "Found: [0. 1. 2. 3.]\n",
            "Error: Unexpected labels found in file /content/nnUNet_raw/Dataset007_Kidney/labelsTr/case_00037.nii.gz.\n",
            "Expected: [0, 1]\n",
            "Found: [0. 1. 2. 3.]\n",
            "Error: Unexpected labels found in file /content/nnUNet_raw/Dataset007_Kidney/labelsTr/case_00019.nii.gz.\n",
            "Expected: [0, 1]\n",
            "Found: [0. 1. 2.]\n",
            "Error: Unexpected labels found in file /content/nnUNet_raw/Dataset007_Kidney/labelsTr/case_00038.nii.gz.\n",
            "Expected: [0, 1]\n",
            "Found: [0. 1. 2.]\n",
            "Error: Unexpected labels found in file /content/nnUNet_raw/Dataset007_Kidney/labelsTr/case_00014.nii.gz.\n",
            "Expected: [0, 1]\n",
            "Found: [0. 1. 2.]\n",
            "Error: Unexpected labels found in file /content/nnUNet_raw/Dataset007_Kidney/labelsTr/case_00045.nii.gz.\n",
            "Expected: [0, 1]\n",
            "Found: [0. 1. 2. 3.]\n",
            "Error: Unexpected labels found in file /content/nnUNet_raw/Dataset007_Kidney/labelsTr/case_00040.nii.gz.\n",
            "Expected: [0, 1]\n",
            "Found: [0. 1. 2.]\n",
            "Error: Unexpected labels found in file /content/nnUNet_raw/Dataset007_Kidney/labelsTr/case_00050.nii.gz.\n",
            "Expected: [0, 1]\n",
            "Found: [0. 1. 2. 3.]\n",
            "Error: Unexpected labels found in file /content/nnUNet_raw/Dataset007_Kidney/labelsTr/case_00033.nii.gz.\n",
            "Expected: [0, 1]\n",
            "Found: [0. 1. 2.]\n",
            "Error: Unexpected labels found in file /content/nnUNet_raw/Dataset007_Kidney/labelsTr/case_00005.nii.gz.\n",
            "Expected: [0, 1]\n",
            "Found: [0. 1. 2.]\n",
            "Error: Unexpected labels found in file /content/nnUNet_raw/Dataset007_Kidney/labelsTr/case_00024.nii.gz.\n",
            "Expected: [0, 1]\n",
            "Found: [0. 1. 2.]\n",
            "Error: Unexpected labels found in file /content/nnUNet_raw/Dataset007_Kidney/labelsTr/case_00034.nii.gz.\n",
            "Expected: [0, 1]\n",
            "Found: [0. 1. 2. 3.]\n",
            "Error: Unexpected labels found in file /content/nnUNet_raw/Dataset007_Kidney/labelsTr/case_00047.nii.gz.\n",
            "Expected: [0, 1]\n",
            "Found: [0. 1. 2.]\n",
            "Error: Unexpected labels found in file /content/nnUNet_raw/Dataset007_Kidney/labelsTr/case_00006.nii.gz.\n",
            "Expected: [0, 1]\n",
            "Found: [0. 1. 2. 3.]\n",
            "Error: Unexpected labels found in file /content/nnUNet_raw/Dataset007_Kidney/labelsTr/case_00042.nii.gz.\n",
            "Expected: [0, 1]\n",
            "Found: [0. 1. 2.]\n",
            "Error: Unexpected labels found in file /content/nnUNet_raw/Dataset007_Kidney/labelsTr/case_00001.nii.gz.\n",
            "Expected: [0, 1]\n",
            "Found: [0. 1. 2.]\n",
            "Error: Unexpected labels found in file /content/nnUNet_raw/Dataset007_Kidney/labelsTr/case_00043.nii.gz.\n",
            "Expected: [0, 1]\n",
            "Found: [0. 1. 2.]\n",
            "Error: Unexpected labels found in file /content/nnUNet_raw/Dataset007_Kidney/labelsTr/case_00008.nii.gz.\n",
            "Expected: [0, 1]\n",
            "Found: [0. 1. 2. 3.]\n",
            "Error: Unexpected labels found in file /content/nnUNet_raw/Dataset007_Kidney/labelsTr/case_00027.nii.gz.\n",
            "Expected: [0, 1]\n",
            "Found: [0. 1. 2. 3.]\n",
            "Error: Unexpected labels found in file /content/nnUNet_raw/Dataset007_Kidney/labelsTr/case_00009.nii.gz.\n",
            "Expected: [0, 1]\n",
            "Found: [0. 1. 2.]\n",
            "Error: Unexpected labels found in file /content/nnUNet_raw/Dataset007_Kidney/labelsTr/case_00044.nii.gz.\n",
            "Expected: [0, 1]\n",
            "Found: [0. 1. 2.]\n",
            "Error: Unexpected labels found in file /content/nnUNet_raw/Dataset007_Kidney/labelsTr/case_00028.nii.gz.\n",
            "Expected: [0, 1]\n",
            "Found: [0. 1. 2. 3.]\n",
            "Error: Unexpected labels found in file /content/nnUNet_raw/Dataset007_Kidney/labelsTr/case_00002.nii.gz.\n",
            "Expected: [0, 1]\n",
            "Found: [0. 1. 2. 3.]\n",
            "Error: Unexpected labels found in file /content/nnUNet_raw/Dataset007_Kidney/labelsTr/case_00003.nii.gz.\n",
            "Expected: [0, 1]\n",
            "Found: [0. 1. 2.]\n",
            "Error: Unexpected labels found in file /content/nnUNet_raw/Dataset007_Kidney/labelsTr/case_00004.nii.gz.\n",
            "Expected: [0, 1]\n",
            "Found: [0. 1. 2.]\n",
            "Error: Unexpected labels found in file /content/nnUNet_raw/Dataset007_Kidney/labelsTr/case_00049.nii.gz.\n",
            "Expected: [0, 1]\n",
            "Found: [0. 1. 2.]\n",
            "Traceback (most recent call last):\n",
            "  File \"/usr/local/bin/nnUNetv2_plan_and_preprocess\", line 8, in <module>\n",
            "    sys.exit(plan_and_preprocess_entry())\n",
            "  File \"/content/nnUNet/nnunetv2/experiment_planning/plan_and_preprocess_entrypoints.py\", line 182, in plan_and_preprocess_entry\n",
            "    extract_fingerprints(args.d, args.fpe, args.npfp, args.verify_dataset_integrity, args.clean, args.verbose)\n",
            "  File \"/content/nnUNet/nnunetv2/experiment_planning/plan_and_preprocess_api.py\", line 46, in extract_fingerprints\n",
            "    extract_fingerprint_dataset(d, fingerprint_extractor_class, num_processes, check_dataset_integrity, clean,\n",
            "  File \"/content/nnUNet/nnunetv2/experiment_planning/plan_and_preprocess_api.py\", line 29, in extract_fingerprint_dataset\n",
            "    verify_dataset_integrity(join(nnUNet_raw, dataset_name), num_processes)\n",
            "  File \"/content/nnUNet/nnunetv2/experiment_planning/verify_dataset_integrity.py\", line 210, in verify_dataset_integrity\n",
            "    raise RuntimeError(\n",
            "RuntimeError: Some segmentation images contained unexpected labels. Please check text output above to see which one(s).\n"
          ]
        }
      ],
      "source": [
        "! nnUNetv2_plan_and_preprocess -d 07 --verify_dataset_integrity -np 4"
      ]
    },
    {
      "cell_type": "code",
      "source": [
        "import json\n",
        "\n",
        "with open(\"/content/nnUNet_preprocessed/Dataset007_Kidney/nnUNetPlans.json\", \"r\") as f:\n",
        "    data = json.load(f)\n",
        "\n",
        "print(data[\"configurations\"][\"2d\"]['patch_size'])\n",
        "data[\"configurations\"][\"2d\"]['patch_size'] = [256,256]\n",
        "data[\"configurations\"][\"2d\"]['batch_size'] = 100\n",
        "\n",
        "with open(\"/content/nnUNet_preprocessed/Dataset007_Kidney/nnUNetPlans.json\", \"w\") as f:\n",
        "    json.dump(data, f, indent=4)"
      ],
      "metadata": {
        "id": "soQh2a5TiB51",
        "outputId": "5f7445b4-94a0-4cb0-f76b-001f39387a74",
        "colab": {
          "base_uri": "https://localhost:8080/",
          "height": 215
        }
      },
      "execution_count": 21,
      "outputs": [
        {
          "output_type": "error",
          "ename": "FileNotFoundError",
          "evalue": "[Errno 2] No such file or directory: '/content/nnUNet_preprocessed/Dataset007_Kidney/nnUNetPlans.json'",
          "traceback": [
            "\u001b[0;31m---------------------------------------------------------------------------\u001b[0m",
            "\u001b[0;31mFileNotFoundError\u001b[0m                         Traceback (most recent call last)",
            "\u001b[0;32m<ipython-input-21-300992cef5e9>\u001b[0m in \u001b[0;36m<cell line: 3>\u001b[0;34m()\u001b[0m\n\u001b[1;32m      1\u001b[0m \u001b[0;32mimport\u001b[0m \u001b[0mjson\u001b[0m\u001b[0;34m\u001b[0m\u001b[0;34m\u001b[0m\u001b[0m\n\u001b[1;32m      2\u001b[0m \u001b[0;34m\u001b[0m\u001b[0m\n\u001b[0;32m----> 3\u001b[0;31m \u001b[0;32mwith\u001b[0m \u001b[0mopen\u001b[0m\u001b[0;34m(\u001b[0m\u001b[0;34m\"/content/nnUNet_preprocessed/Dataset007_Kidney/nnUNetPlans.json\"\u001b[0m\u001b[0;34m,\u001b[0m \u001b[0;34m\"r\"\u001b[0m\u001b[0;34m)\u001b[0m \u001b[0;32mas\u001b[0m \u001b[0mf\u001b[0m\u001b[0;34m:\u001b[0m\u001b[0;34m\u001b[0m\u001b[0;34m\u001b[0m\u001b[0m\n\u001b[0m\u001b[1;32m      4\u001b[0m     \u001b[0mdata\u001b[0m \u001b[0;34m=\u001b[0m \u001b[0mjson\u001b[0m\u001b[0;34m.\u001b[0m\u001b[0mload\u001b[0m\u001b[0;34m(\u001b[0m\u001b[0mf\u001b[0m\u001b[0;34m)\u001b[0m\u001b[0;34m\u001b[0m\u001b[0;34m\u001b[0m\u001b[0m\n\u001b[1;32m      5\u001b[0m \u001b[0;34m\u001b[0m\u001b[0m\n",
            "\u001b[0;31mFileNotFoundError\u001b[0m: [Errno 2] No such file or directory: '/content/nnUNet_preprocessed/Dataset007_Kidney/nnUNetPlans.json'"
          ]
        }
      ]
    },
    {
      "cell_type": "markdown",
      "metadata": {
        "id": "YXmirhd2if1h"
      },
      "source": [
        "Train dataset 6, using 2d images, start with fold 2"
      ]
    },
    {
      "cell_type": "code",
      "execution_count": null,
      "metadata": {
        "id": "PGyfVokAD2ob"
      },
      "outputs": [],
      "source": [
        "! nnUNetv2_train 07 3d_fullres 2 -device cuda"
      ]
    }
  ],
  "metadata": {
    "accelerator": "GPU",
    "colab": {
      "gpuType": "V100",
      "machine_shape": "hm",
      "provenance": []
    },
    "kernelspec": {
      "display_name": "Python 3",
      "name": "python3"
    },
    "language_info": {
      "name": "python"
    }
  },
  "nbformat": 4,
  "nbformat_minor": 0
}