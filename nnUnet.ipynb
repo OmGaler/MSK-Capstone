{
  "cells": [
    {
      "cell_type": "code",
      "source": [],
      "metadata": {
        "id": "pTx6t4ID87Kq"
      },
      "execution_count": null,
      "outputs": []
    },
    {
      "cell_type": "code",
      "execution_count": 1,
      "metadata": {
        "id": "yj-URPve6g8Y",
        "outputId": "e63b6dea-bdf4-4280-f3f9-a0de060ac3ae",
        "colab": {
          "base_uri": "https://localhost:8080/"
        }
      },
      "outputs": [
        {
          "output_type": "stream",
          "name": "stdout",
          "text": [
            "Background checkpoint download started.\n"
          ]
        },
        {
          "output_type": "stream",
          "name": "stderr",
          "text": [
            "Exception in thread Thread-10 (download_checkpoint):\n",
            "Traceback (most recent call last):\n",
            "  File \"/usr/lib/python3.10/threading.py\", line 1016, in _bootstrap_inner\n",
            "    self.run()\n",
            "  File \"/usr/lib/python3.10/threading.py\", line 953, in run\n",
            "    self._target(*self._args, **self._kwargs)\n",
            "  File \"<ipython-input-1-1f2118c8a558>\", line 8, in download_checkpoint\n",
            "FileNotFoundError: [Errno 2] No such file or directory: '/nnunetresults/'\n"
          ]
        }
      ],
      "source": [
        "import os\n",
        "import time\n",
        "import threading\n",
        "from google.colab import files\n",
        "\n",
        "def download_checkpoint():\n",
        "    while True:\n",
        "        files_list = os.listdir(\"/nnunetresults/\")\n",
        "        for file in files_list:\n",
        "            if file.endswith(\".pth\"):\n",
        "                print(\"Checkpoint found. Downloading...\")\n",
        "                local_path = os.path.join(\"/nnunetresults/\", file)\n",
        "                files.download(local_path)\n",
        "                return\n",
        "        time.sleep(10)  # Check every 10 seconds\n",
        "\n",
        "def main():\n",
        "    # Start the download_checkpoint function in a separate thread\n",
        "    thread = threading.Thread(target=download_checkpoint)\n",
        "    thread.daemon = True  # Daemonize the thread so it terminates when the main thread terminates\n",
        "    thread.start()\n",
        "\n",
        "if __name__ == \"__main__\":\n",
        "    main()\n",
        "    print(\"Background checkpoint download started.\")\n"
      ]
    },
    {
      "cell_type": "code",
      "execution_count": 2,
      "metadata": {
        "colab": {
          "base_uri": "https://localhost:8080/"
        },
        "id": "fkZG-toIysqa",
        "outputId": "6926198b-66b7-4370-d748-4e93e3b78466"
      },
      "outputs": [
        {
          "output_type": "stream",
          "name": "stdout",
          "text": [
            "Looking in indexes: https://download.pytorch.org/whl/cu118\n",
            "Requirement already satisfied: torch in /usr/local/lib/python3.10/dist-packages (2.1.0+cu121)\n",
            "Requirement already satisfied: torchvision in /usr/local/lib/python3.10/dist-packages (0.16.0+cu121)\n",
            "Requirement already satisfied: filelock in /usr/local/lib/python3.10/dist-packages (from torch) (3.13.1)\n",
            "Requirement already satisfied: typing-extensions in /usr/local/lib/python3.10/dist-packages (from torch) (4.10.0)\n",
            "Requirement already satisfied: sympy in /usr/local/lib/python3.10/dist-packages (from torch) (1.12)\n",
            "Requirement already satisfied: networkx in /usr/local/lib/python3.10/dist-packages (from torch) (3.2.1)\n",
            "Requirement already satisfied: jinja2 in /usr/local/lib/python3.10/dist-packages (from torch) (3.1.3)\n",
            "Requirement already satisfied: fsspec in /usr/local/lib/python3.10/dist-packages (from torch) (2023.6.0)\n",
            "Requirement already satisfied: triton==2.1.0 in /usr/local/lib/python3.10/dist-packages (from torch) (2.1.0)\n",
            "Requirement already satisfied: numpy in /usr/local/lib/python3.10/dist-packages (from torchvision) (1.25.2)\n",
            "Requirement already satisfied: requests in /usr/local/lib/python3.10/dist-packages (from torchvision) (2.31.0)\n",
            "Requirement already satisfied: pillow!=8.3.*,>=5.3.0 in /usr/local/lib/python3.10/dist-packages (from torchvision) (9.4.0)\n",
            "Requirement already satisfied: MarkupSafe>=2.0 in /usr/local/lib/python3.10/dist-packages (from jinja2->torch) (2.1.5)\n",
            "Requirement already satisfied: charset-normalizer<4,>=2 in /usr/local/lib/python3.10/dist-packages (from requests->torchvision) (3.3.2)\n",
            "Requirement already satisfied: idna<4,>=2.5 in /usr/local/lib/python3.10/dist-packages (from requests->torchvision) (3.6)\n",
            "Requirement already satisfied: urllib3<3,>=1.21.1 in /usr/local/lib/python3.10/dist-packages (from requests->torchvision) (2.0.7)\n",
            "Requirement already satisfied: certifi>=2017.4.17 in /usr/local/lib/python3.10/dist-packages (from requests->torchvision) (2024.2.2)\n",
            "Requirement already satisfied: mpmath>=0.19 in /usr/local/lib/python3.10/dist-packages (from sympy->torch) (1.3.0)\n"
          ]
        }
      ],
      "source": [
        "! pip3 install torch torchvision --index-url https://download.pytorch.org/whl/cu118"
      ]
    },
    {
      "cell_type": "code",
      "execution_count": 3,
      "metadata": {
        "id": "30ncoCMi2Yhl",
        "outputId": "f913e3aa-50c5-47a8-a7da-8558d9e82c57",
        "colab": {
          "base_uri": "https://localhost:8080/"
        }
      },
      "outputs": [
        {
          "output_type": "stream",
          "name": "stdout",
          "text": [
            "mkdir: cannot create directory ‘nnUNet_raw’: File exists\n",
            "mkdir: cannot create directory ‘nnUNet_preprocessed’: File exists\n",
            "mkdir: cannot create directory ‘nnUNet_results’: File exists\n"
          ]
        }
      ],
      "source": [
        "! mkdir \"nnUNet_raw\"\n",
        "! mkdir \"nnUNet_preprocessed\"\n",
        "! mkdir \"nnUNet_results\""
      ]
    },
    {
      "cell_type": "markdown",
      "metadata": {
        "id": "2jRNXWxi3OC7"
      },
      "source": [
        "Hmm this should be giving an output."
      ]
    },
    {
      "cell_type": "code",
      "execution_count": 4,
      "metadata": {
        "id": "NyDmNgOjhdDk"
      },
      "outputs": [],
      "source": [
        "import os\n",
        "# Set environment variable\n",
        "os.environ['nnUNet_raw'] = '/content/nnUNet_raw'\n",
        "os.environ['nnUNet_preprocessed'] = '/content/nnUNet_preprocessed'\n",
        "os.environ['nnUNet_results'] = '/content/nnUNet_results'"
      ]
    },
    {
      "cell_type": "code",
      "execution_count": 5,
      "metadata": {
        "colab": {
          "base_uri": "https://localhost:8080/"
        },
        "id": "i3kgnbk8hl59",
        "outputId": "616d64e1-f25a-4d8f-9cbf-aa801b14e0df"
      },
      "outputs": [
        {
          "output_type": "stream",
          "name": "stdout",
          "text": [
            "/content/nnUNet_raw\n"
          ]
        }
      ],
      "source": [
        "!echo ${nnUNet_raw}"
      ]
    },
    {
      "cell_type": "code",
      "execution_count": 6,
      "metadata": {
        "colab": {
          "base_uri": "https://localhost:8080/"
        },
        "id": "AD_xh89m7zyQ",
        "outputId": "1e4379ac-937e-4688-9ded-8177ddbcf63b"
      },
      "outputs": [
        {
          "output_type": "stream",
          "name": "stdout",
          "text": [
            "Requirement already satisfied: torchio in /usr/local/lib/python3.10/dist-packages (0.19.6)\n",
            "Requirement already satisfied: Deprecated in /usr/local/lib/python3.10/dist-packages (from torchio) (1.2.14)\n",
            "Requirement already satisfied: SimpleITK!=2.0.*,!=2.1.1.1 in /usr/local/lib/python3.10/dist-packages (from torchio) (2.3.1)\n",
            "Requirement already satisfied: humanize in /usr/local/lib/python3.10/dist-packages (from torchio) (4.7.0)\n",
            "Requirement already satisfied: nibabel in /usr/local/lib/python3.10/dist-packages (from torchio) (4.0.2)\n",
            "Requirement already satisfied: numpy>=1.15 in /usr/local/lib/python3.10/dist-packages (from torchio) (1.25.2)\n",
            "Requirement already satisfied: scipy in /usr/local/lib/python3.10/dist-packages (from torchio) (1.11.4)\n",
            "Requirement already satisfied: torch>=1.1 in /usr/local/lib/python3.10/dist-packages (from torchio) (2.1.0+cu121)\n",
            "Requirement already satisfied: tqdm in /usr/local/lib/python3.10/dist-packages (from torchio) (4.66.2)\n",
            "Requirement already satisfied: typer[all] in /usr/local/lib/python3.10/dist-packages (from torchio) (0.9.0)\n",
            "Requirement already satisfied: filelock in /usr/local/lib/python3.10/dist-packages (from torch>=1.1->torchio) (3.13.1)\n",
            "Requirement already satisfied: typing-extensions in /usr/local/lib/python3.10/dist-packages (from torch>=1.1->torchio) (4.10.0)\n",
            "Requirement already satisfied: sympy in /usr/local/lib/python3.10/dist-packages (from torch>=1.1->torchio) (1.12)\n",
            "Requirement already satisfied: networkx in /usr/local/lib/python3.10/dist-packages (from torch>=1.1->torchio) (3.2.1)\n",
            "Requirement already satisfied: jinja2 in /usr/local/lib/python3.10/dist-packages (from torch>=1.1->torchio) (3.1.3)\n",
            "Requirement already satisfied: fsspec in /usr/local/lib/python3.10/dist-packages (from torch>=1.1->torchio) (2023.6.0)\n",
            "Requirement already satisfied: triton==2.1.0 in /usr/local/lib/python3.10/dist-packages (from torch>=1.1->torchio) (2.1.0)\n",
            "Requirement already satisfied: wrapt<2,>=1.10 in /usr/local/lib/python3.10/dist-packages (from Deprecated->torchio) (1.14.1)\n",
            "Requirement already satisfied: packaging>=17.0 in /usr/local/lib/python3.10/dist-packages (from nibabel->torchio) (23.2)\n",
            "Requirement already satisfied: setuptools in /usr/local/lib/python3.10/dist-packages (from nibabel->torchio) (67.7.2)\n",
            "Requirement already satisfied: click<9.0.0,>=7.1.1 in /usr/local/lib/python3.10/dist-packages (from typer[all]->torchio) (8.1.7)\n",
            "Requirement already satisfied: colorama<0.5.0,>=0.4.3 in /usr/local/lib/python3.10/dist-packages (from typer[all]->torchio) (0.4.6)\n",
            "Requirement already satisfied: shellingham<2.0.0,>=1.3.0 in /usr/local/lib/python3.10/dist-packages (from typer[all]->torchio) (1.5.4)\n",
            "Requirement already satisfied: rich<14.0.0,>=10.11.0 in /usr/local/lib/python3.10/dist-packages (from typer[all]->torchio) (13.7.1)\n",
            "Requirement already satisfied: markdown-it-py>=2.2.0 in /usr/local/lib/python3.10/dist-packages (from rich<14.0.0,>=10.11.0->typer[all]->torchio) (3.0.0)\n",
            "Requirement already satisfied: pygments<3.0.0,>=2.13.0 in /usr/local/lib/python3.10/dist-packages (from rich<14.0.0,>=10.11.0->typer[all]->torchio) (2.16.1)\n",
            "Requirement already satisfied: MarkupSafe>=2.0 in /usr/local/lib/python3.10/dist-packages (from jinja2->torch>=1.1->torchio) (2.1.5)\n",
            "Requirement already satisfied: mpmath>=0.19 in /usr/local/lib/python3.10/dist-packages (from sympy->torch>=1.1->torchio) (1.3.0)\n",
            "Requirement already satisfied: mdurl~=0.1 in /usr/local/lib/python3.10/dist-packages (from markdown-it-py>=2.2.0->rich<14.0.0,>=10.11.0->typer[all]->torchio) (0.1.2)\n"
          ]
        }
      ],
      "source": [
        "!pip install torchio"
      ]
    },
    {
      "cell_type": "code",
      "execution_count": 7,
      "metadata": {
        "id": "2WW2REhSWAi6"
      },
      "outputs": [],
      "source": [
        "# ! mkdir 'nnUNet_raw/Task07_Kidney'\n",
        "# ! mkdir 'nnUNet_raw/Task07_Kidney/imagesTs'\n",
        "# ! mkdir 'nnUNet_raw/Task07_Kidney/imagesTr'\n",
        "# ! mkdir 'nnUNet_raw/Task07_Kidney/labelsTr'"
      ]
    },
    {
      "cell_type": "code",
      "execution_count": 8,
      "metadata": {
        "id": "5FizGjtm6tey",
        "outputId": "e4cff36e-9301-4760-e515-154153699dac",
        "colab": {
          "base_uri": "https://localhost:8080/"
        }
      },
      "outputs": [
        {
          "output_type": "stream",
          "name": "stdout",
          "text": [
            "mkdir: cannot create directory ‘nnUNet_raw/Dataset007_Kidney’: File exists\n",
            "mkdir: cannot create directory ‘nnUNet_raw/Dataset007_Kidney/imagesTs’: File exists\n",
            "mkdir: cannot create directory ‘nnUNet_raw/Dataset007_Kidney/imagesTr’: File exists\n",
            "mkdir: cannot create directory ‘nnUNet_raw/Dataset007_Kidney/labelsTr’: File exists\n"
          ]
        }
      ],
      "source": [
        "! mkdir 'nnUNet_raw/Dataset007_Kidney'\n",
        "! mkdir 'nnUNet_raw/Dataset007_Kidney/imagesTs'\n",
        "! mkdir 'nnUNet_raw/Dataset007_Kidney/imagesTr'\n",
        "! mkdir 'nnUNet_raw/Dataset007_Kidney/labelsTr'"
      ]
    },
    {
      "cell_type": "code",
      "execution_count": 9,
      "metadata": {
        "colab": {
          "base_uri": "https://localhost:8080/"
        },
        "id": "YwtDwyqwDCMP",
        "outputId": "b60e2f8e-2e48-4c07-b896-58d679ee7da6"
      },
      "outputs": [
        {
          "output_type": "stream",
          "name": "stdout",
          "text": [
            "fatal: destination path 'batchgenerators' already exists and is not an empty directory.\n"
          ]
        }
      ],
      "source": [
        "!git clone https://github.com/MIC-DKFZ/batchgenerators.git"
      ]
    },
    {
      "cell_type": "code",
      "execution_count": 10,
      "metadata": {
        "colab": {
          "base_uri": "https://localhost:8080/",
          "height": 739
        },
        "id": "tL3ko5HEDC_S",
        "outputId": "f70e17c6-f270-4923-d8ad-a414885816e1"
      },
      "outputs": [
        {
          "output_type": "stream",
          "name": "stdout",
          "text": [
            "/content/batchgenerators\n",
            "Processing /content/batchgenerators\n",
            "  Preparing metadata (setup.py) ... \u001b[?25l\u001b[?25hdone\n",
            "Requirement already satisfied: pillow>=7.1.2 in /usr/local/lib/python3.10/dist-packages (from batchgenerators==0.25) (9.4.0)\n",
            "Requirement already satisfied: numpy>=1.10.2 in /usr/local/lib/python3.10/dist-packages (from batchgenerators==0.25) (1.25.2)\n",
            "Requirement already satisfied: scipy in /usr/local/lib/python3.10/dist-packages (from batchgenerators==0.25) (1.11.4)\n",
            "Requirement already satisfied: scikit-image in /usr/local/lib/python3.10/dist-packages (from batchgenerators==0.25) (0.19.3)\n",
            "Requirement already satisfied: scikit-learn in /usr/local/lib/python3.10/dist-packages (from batchgenerators==0.25) (1.2.2)\n",
            "Requirement already satisfied: future in /usr/local/lib/python3.10/dist-packages (from batchgenerators==0.25) (0.18.3)\n",
            "Requirement already satisfied: unittest2 in /usr/local/lib/python3.10/dist-packages (from batchgenerators==0.25) (1.1.0)\n",
            "Requirement already satisfied: threadpoolctl in /usr/local/lib/python3.10/dist-packages (from batchgenerators==0.25) (3.3.0)\n",
            "Requirement already satisfied: networkx>=2.2 in /usr/local/lib/python3.10/dist-packages (from scikit-image->batchgenerators==0.25) (3.2.1)\n",
            "Requirement already satisfied: imageio>=2.4.1 in /usr/local/lib/python3.10/dist-packages (from scikit-image->batchgenerators==0.25) (2.31.6)\n",
            "Requirement already satisfied: tifffile>=2019.7.26 in /usr/local/lib/python3.10/dist-packages (from scikit-image->batchgenerators==0.25) (2024.2.12)\n",
            "Requirement already satisfied: PyWavelets>=1.1.1 in /usr/local/lib/python3.10/dist-packages (from scikit-image->batchgenerators==0.25) (1.5.0)\n",
            "Requirement already satisfied: packaging>=20.0 in /usr/local/lib/python3.10/dist-packages (from scikit-image->batchgenerators==0.25) (23.2)\n",
            "Requirement already satisfied: joblib>=1.1.1 in /usr/local/lib/python3.10/dist-packages (from scikit-learn->batchgenerators==0.25) (1.3.2)\n",
            "Collecting argparse (from unittest2->batchgenerators==0.25)\n",
            "  Using cached argparse-1.4.0-py2.py3-none-any.whl (23 kB)\n",
            "Requirement already satisfied: six>=1.4 in /usr/local/lib/python3.10/dist-packages (from unittest2->batchgenerators==0.25) (1.16.0)\n",
            "Requirement already satisfied: traceback2 in /usr/local/lib/python3.10/dist-packages (from unittest2->batchgenerators==0.25) (1.4.0)\n",
            "Requirement already satisfied: linecache2 in /usr/local/lib/python3.10/dist-packages (from traceback2->unittest2->batchgenerators==0.25) (1.0.0)\n",
            "Building wheels for collected packages: batchgenerators\n",
            "  Building wheel for batchgenerators (setup.py) ... \u001b[?25l\u001b[?25hdone\n",
            "  Created wheel for batchgenerators: filename=batchgenerators-0.25-py3-none-any.whl size=92663 sha256=8855861c9cc8950cd77aea4470214555bd418a22a97e36471d1f607d05eefed2\n",
            "  Stored in directory: /tmp/pip-ephem-wheel-cache-654px4db/wheels/36/51/5d/3aa020578c0d1835119dcfda74d4432a5adf9470682aa6c1e1\n",
            "Successfully built batchgenerators\n",
            "Installing collected packages: argparse, batchgenerators\n",
            "  Attempting uninstall: batchgenerators\n",
            "    Found existing installation: batchgenerators 0.25\n",
            "    Uninstalling batchgenerators-0.25:\n",
            "      Successfully uninstalled batchgenerators-0.25\n",
            "Successfully installed argparse-1.4.0 batchgenerators-0.25\n"
          ]
        },
        {
          "output_type": "display_data",
          "data": {
            "application/vnd.colab-display-data+json": {
              "pip_warning": {
                "packages": [
                  "argparse"
                ]
              },
              "id": "715325e9bac145b9b04fa64559e1bda9"
            }
          },
          "metadata": {}
        },
        {
          "output_type": "stream",
          "name": "stdout",
          "text": [
            "/content\n"
          ]
        }
      ],
      "source": [
        "%cd batchgenerators\n",
        "!pip install .\n",
        "\n",
        "%cd ..\n"
      ]
    },
    {
      "cell_type": "code",
      "execution_count": 11,
      "metadata": {
        "colab": {
          "base_uri": "https://localhost:8080/"
        },
        "id": "5VH8KeZk05e1",
        "outputId": "10e7f324-b0e9-4bb2-b8ea-63f0f4d140fa"
      },
      "outputs": [
        {
          "output_type": "stream",
          "name": "stdout",
          "text": [
            "fatal: destination path 'nnUNet' already exists and is not an empty directory.\n"
          ]
        }
      ],
      "source": [
        "# !pip install nnunetv2\n",
        "!git clone https://github.com/bennyjacob326/nnUNet.git\n",
        "\n"
      ]
    },
    {
      "cell_type": "code",
      "execution_count": 12,
      "metadata": {
        "colab": {
          "base_uri": "https://localhost:8080/"
        },
        "id": "erVTFQUAUOdL",
        "outputId": "db881b8f-61c9-4bdf-861e-d5b976d34287"
      },
      "outputs": [
        {
          "output_type": "stream",
          "name": "stdout",
          "text": [
            "Obtaining file:///content/nnUNet\n",
            "\u001b[31mERROR: Operation cancelled by user\u001b[0m\u001b[31m\n",
            "\u001b[0m  Installing build dependencies ... \u001b[?25l\u001b[?25hcanceled"
          ]
        }
      ],
      "source": [
        "! pip install -e /content/nnUNet/"
      ]
    },
    {
      "cell_type": "code",
      "execution_count": 13,
      "metadata": {
        "id": "QdcJeH2VG4um"
      },
      "outputs": [],
      "source": [
        "from nnUNet.nnunetv2.paths import nnUNet_raw"
      ]
    },
    {
      "cell_type": "code",
      "execution_count": 17,
      "metadata": {
        "colab": {
          "base_uri": "https://localhost:8080/"
        },
        "id": "6l8hxDajxYXz",
        "outputId": "d1052408-8183-4002-bdcb-e832efcf6f2d"
      },
      "outputs": [
        {
          "output_type": "stream",
          "name": "stdout",
          "text": [
            "Requirement already satisfied: gdown in /usr/local/lib/python3.10/dist-packages (5.1.0)\n",
            "Requirement already satisfied: beautifulsoup4 in /usr/local/lib/python3.10/dist-packages (from gdown) (4.12.3)\n",
            "Requirement already satisfied: filelock in /usr/local/lib/python3.10/dist-packages (from gdown) (3.13.1)\n",
            "Requirement already satisfied: requests[socks] in /usr/local/lib/python3.10/dist-packages (from gdown) (2.31.0)\n",
            "Requirement already satisfied: tqdm in /usr/local/lib/python3.10/dist-packages (from gdown) (4.66.2)\n",
            "Requirement already satisfied: soupsieve>1.2 in /usr/local/lib/python3.10/dist-packages (from beautifulsoup4->gdown) (2.5)\n",
            "Requirement already satisfied: charset-normalizer<4,>=2 in /usr/local/lib/python3.10/dist-packages (from requests[socks]->gdown) (3.3.2)\n",
            "Requirement already satisfied: idna<4,>=2.5 in /usr/local/lib/python3.10/dist-packages (from requests[socks]->gdown) (3.6)\n",
            "Requirement already satisfied: urllib3<3,>=1.21.1 in /usr/local/lib/python3.10/dist-packages (from requests[socks]->gdown) (2.0.7)\n",
            "Requirement already satisfied: certifi>=2017.4.17 in /usr/local/lib/python3.10/dist-packages (from requests[socks]->gdown) (2024.2.2)\n",
            "Requirement already satisfied: PySocks!=1.5.7,>=1.5.6 in /usr/local/lib/python3.10/dist-packages (from requests[socks]->gdown) (1.7.1)\n",
            "/usr/local/lib/python3.10/dist-packages/gdown/__main__.py:132: FutureWarning: Option `--id` was deprecated in version 4.3.1 and will be removed in 5.0. You don't need to pass it anymore to use a file ID.\n",
            "  warnings.warn(\n",
            "Failed to retrieve file url:\n",
            "\n",
            "\tCannot retrieve the public link of the file. You may need to change\n",
            "\tthe permission to 'Anyone with the link', or have had many accesses.\n",
            "\tCheck FAQ in https://github.com/wkentaro/gdown?tab=readme-ov-file#faq.\n",
            "\n",
            "You may still be able to access the file from the browser:\n",
            "\n",
            "\thttps://drive.google.com/uc?id=https://drive.google.com/drive/folders/1-lLxpgtbtlIsfIB7aHFhY5pPAq1o1cJd?usp=drive_link\n",
            "\n",
            "but Gdown can't. Please check connections and permissions.\n"
          ]
        }
      ],
      "source": [
        "# !gdown \"18unEvC86RnmzEjPPay5aH9dKaRTyR0r-\"\n",
        "# ! gdown \"1stGE4-JbhsvvnMomRqAzDnUuqyALJO71\"\n",
        "# !pip install --upgrade --no-cache-dir gdown\n",
        "!gdown --id \"1-lLxpgtbtlIsfIB7aHFhY5pPAq1o1cJd\""
      ]
    },
    {
      "cell_type": "code",
      "execution_count": 10,
      "metadata": {
        "colab": {
          "base_uri": "https://localhost:8080/"
        },
        "id": "dg3eat1tybHd",
        "outputId": "4568abd4-f8dd-49ed-947f-30fdacefcb9e"
      },
      "outputs": [
        {
          "output_type": "stream",
          "name": "stdout",
          "text": [
            "unzip:  cannot find or open 100 cases.zip, 100 cases.zip.zip or 100 cases.zip.ZIP.\n"
          ]
        }
      ],
      "source": [
        "!unzip 100\\ cases.zip"
      ]
    },
    {
      "cell_type": "code",
      "execution_count": 16,
      "metadata": {
        "colab": {
          "base_uri": "https://localhost:8080/",
          "height": 215
        },
        "id": "eKFYyb_fypv9",
        "outputId": "b5187afa-fd37-4244-b865-f191810f49ce"
      },
      "outputs": [
        {
          "output_type": "error",
          "ename": "FileNotFoundError",
          "evalue": "[Errno 2] No such file or directory: '/content/50 cases'",
          "traceback": [
            "\u001b[0;31m---------------------------------------------------------------------------\u001b[0m",
            "\u001b[0;31mFileNotFoundError\u001b[0m                         Traceback (most recent call last)",
            "\u001b[0;32m<ipython-input-16-368d5567e459>\u001b[0m in \u001b[0;36m<cell line: 14>\u001b[0;34m()\u001b[0m\n\u001b[1;32m     12\u001b[0m \u001b[0;34m\u001b[0m\u001b[0m\n\u001b[1;32m     13\u001b[0m \u001b[0;31m# Iterate through each folder in the source directory\u001b[0m\u001b[0;34m\u001b[0m\u001b[0;34m\u001b[0m\u001b[0m\n\u001b[0;32m---> 14\u001b[0;31m \u001b[0;32mfor\u001b[0m \u001b[0mcase_folder\u001b[0m \u001b[0;32min\u001b[0m \u001b[0mos\u001b[0m\u001b[0;34m.\u001b[0m\u001b[0mlistdir\u001b[0m\u001b[0;34m(\u001b[0m\u001b[0msource_folder\u001b[0m\u001b[0;34m)\u001b[0m\u001b[0;34m:\u001b[0m\u001b[0;34m\u001b[0m\u001b[0;34m\u001b[0m\u001b[0m\n\u001b[0m\u001b[1;32m     15\u001b[0m     \u001b[0mcase_folder_path\u001b[0m \u001b[0;34m=\u001b[0m \u001b[0mos\u001b[0m\u001b[0;34m.\u001b[0m\u001b[0mpath\u001b[0m\u001b[0;34m.\u001b[0m\u001b[0mjoin\u001b[0m\u001b[0;34m(\u001b[0m\u001b[0msource_folder\u001b[0m\u001b[0;34m,\u001b[0m \u001b[0mcase_folder\u001b[0m\u001b[0;34m)\u001b[0m\u001b[0;34m\u001b[0m\u001b[0;34m\u001b[0m\u001b[0m\n\u001b[1;32m     16\u001b[0m \u001b[0;34m\u001b[0m\u001b[0m\n",
            "\u001b[0;31mFileNotFoundError\u001b[0m: [Errno 2] No such file or directory: '/content/50 cases'"
          ]
        }
      ],
      "source": [
        "import os\n",
        "import shutil\n",
        "\n",
        "# Define the paths to the source and destination folders\n",
        "source_folder = \"/content/50 cases\"\n",
        "destination_train_folder = \"/content/nnUNet_raw/Dataset007_Kidney/imagesTr\"\n",
        "destination_test_folder = \"/content/nnUNet_raw/Dataset007_Kidney/labelsTr\"\n",
        "\n",
        "# Create destination folders if they don't exist\n",
        "os.makedirs(destination_train_folder, exist_ok=True)\n",
        "os.makedirs(destination_test_folder, exist_ok=True)\n",
        "\n",
        "# Iterate through each folder in the source directory\n",
        "for case_folder in os.listdir(source_folder):\n",
        "    case_folder_path = os.path.join(source_folder, case_folder)\n",
        "\n",
        "    # Check if the item in the source folder is a directory\n",
        "    if os.path.isdir(case_folder_path):\n",
        "        # Find the imaging.nii.gz and segmentation.nii.gz files\n",
        "        imaging_file = os.path.join(case_folder_path, \"imaging.nii.gz\")\n",
        "        segmentation_file = os.path.join(case_folder_path, \"segmentation.nii.gz\")\n",
        "\n",
        "        # Check if both files exist\n",
        "        if os.path.exists(imaging_file) and os.path.exists(segmentation_file):\n",
        "            # Rename and move the imaging file to the training folder\n",
        "            new_imaging_file = os.path.join(destination_train_folder, f\"{case_folder}_0000.nii.gz\")\n",
        "            try:\n",
        "                shutil.move(imaging_file, new_imaging_file)\n",
        "                print(f\"Imaging file for {case_folder} moved successfully.\")\n",
        "            except FileNotFoundError:\n",
        "                print(f\"Error: Imaging file not found for {case_folder}. Skipping...\")\n",
        "\n",
        "            # Rename and move the segmentation file to the testing folder\n",
        "            new_segmentation_file = os.path.join(destination_test_folder, f\"{case_folder}.nii.gz\")\n",
        "            try:\n",
        "                shutil.move(segmentation_file, new_segmentation_file)\n",
        "                print(f\"Segmentation file for {case_folder} moved successfully.\")\n",
        "            except FileNotFoundError:\n",
        "                print(f\"Error: Segmentation file not found for {case_folder}. Skipping...\")\n",
        "        else:\n",
        "            print(f\"Files not found in {case_folder}. Skipping...\")\n"
      ]
    },
    {
      "cell_type": "markdown",
      "metadata": {
        "id": "C-WAYHlW4zry"
      },
      "source": [
        "Needed to redunce the number of workers for colab free. (`-np 4`. The default is 4 or 8 depending on the subtask)"
      ]
    },
    {
      "cell_type": "code",
      "execution_count": null,
      "metadata": {
        "id": "1C-SsTqE7mQW"
      },
      "outputs": [],
      "source": [
        "import json\n",
        "\n",
        "# Define the dataset information\n",
        "dataset_info = {\n",
        "    \"channel_names\": {\n",
        "        \"0\": \"CT\"\n",
        "    },\n",
        "    \"labels\": {\n",
        "        \"background\": 0,\n",
        "        # \"kidney\": [1, 2, 3],\n",
        "        \"kidney\": [1,2],\n",
        "        # \"masses\": [2, 3],\n",
        "        \"tumor\": 2\n",
        "    },\n",
        "    \"numTraining\": 51,\n",
        "    \"file_ending\": \".nii.gz\",\n",
        "    \"overwrite_image_reader_writer\": \"NibabelIOWithReorient\",\n",
        "    # \"regions_class_order\": [1, 3, 2]\n",
        "    \"regions_class_order\": [1, 2]\n",
        "}\n",
        "\n",
        "# Define the file path for saving the JSON file\n",
        "output_file = '/content/nnUNet_raw/Dataset007_Kidney/dataset.json'\n",
        "\n",
        "# Write the dataset information to the JSON file\n",
        "with open(output_file, 'w') as json_file:\n",
        "    json.dump(dataset_info, json_file, indent=4)\n",
        "\n",
        "print(f\"JSON file saved to: {output_file}\")\n"
      ]
    },
    {
      "cell_type": "code",
      "execution_count": null,
      "metadata": {
        "id": "q-dZFYRlwja-"
      },
      "outputs": [],
      "source": [
        "! nnUNetv2_plan_and_preprocess -d 07 --verify_dataset_integrity -np 4"
      ]
    },
    {
      "cell_type": "markdown",
      "metadata": {
        "id": "YXmirhd2if1h"
      },
      "source": [
        "Train dataset 6, using 2d images, start with fold 2"
      ]
    },
    {
      "cell_type": "code",
      "execution_count": null,
      "metadata": {
        "id": "PGyfVokAD2ob"
      },
      "outputs": [],
      "source": [
        "! nnUNetv2_train 07 3d_fullres 2 -device cuda"
      ]
    }
  ],
  "metadata": {
    "accelerator": "GPU",
    "colab": {
      "gpuType": "V100",
      "machine_shape": "hm",
      "provenance": []
    },
    "kernelspec": {
      "display_name": "Python 3",
      "name": "python3"
    },
    "language_info": {
      "name": "python"
    }
  },
  "nbformat": 4,
  "nbformat_minor": 0
}