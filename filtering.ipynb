{
 "cells": [
  {
   "cell_type": "code",
   "execution_count": 19,
   "id": "initial_id",
   "metadata": {
    "collapsed": true,
    "ExecuteTime": {
     "end_time": "2024-03-18T21:56:15.720110Z",
     "start_time": "2024-03-18T21:56:15.708471Z"
    }
   },
   "outputs": [],
   "source": [
    "import nibabel as nib\n",
    "import numpy as np\n",
    "\n",
    "example_pred_path = \"/Users/ephraimmeiri/Downloads/case_00104.nii.gz\"\n",
    "example_pred_img = nib.load(example_pred_path)\n",
    "example_pred = example_pred_img.get_fdata()"
   ]
  },
  {
   "cell_type": "code",
   "execution_count": 26,
   "outputs": [],
   "source": [
    "actual_classif_path = \"/Users/ephraimmeiri/gitEtc/nnUNet/resized1/all_cases/case_00104/segmentation.nii.gz\"\n",
    "actual_classif_img = nib.load(actual_classif_path)\n",
    "actual_classif = nib.load(actual_classif_path).get_fdata()\n",
    "rounded_data = np.rint(actual_classif).astype(np.uint8)\n",
    "modified_img = nib.Nifti1Image(rounded_data, actual_classif_img.affine, actual_classif_img.header)\n",
    "nib.save(modified_img, \"case_00104_act.nii.gz\")\n",
    "classif_rounded_path = \"/Users/ephraimmeiri/gitEtc/MSK-Capstone/case_00104_act.nii.gz\""
   ],
   "metadata": {
    "collapsed": false,
    "ExecuteTime": {
     "end_time": "2024-03-18T22:06:30.028764Z",
     "start_time": "2024-03-18T22:06:29.987436Z"
    }
   },
   "id": "36a269882504fb57"
  },
  {
   "cell_type": "code",
   "execution_count": 5,
   "outputs": [
    {
     "ename": "NameError",
     "evalue": "name 'BaseReaderWriter' is not defined",
     "output_type": "error",
     "traceback": [
      "\u001B[0;31m---------------------------------------------------------------------------\u001B[0m",
      "\u001B[0;31mNameError\u001B[0m                                 Traceback (most recent call last)",
      "Cell \u001B[0;32mIn [5], line 24\u001B[0m\n\u001B[1;32m     21\u001B[0m     tn \u001B[38;5;241m=\u001B[39m np\u001B[38;5;241m.\u001B[39msum(((\u001B[38;5;241m~\u001B[39mmask_ref) \u001B[38;5;241m&\u001B[39m (\u001B[38;5;241m~\u001B[39mmask_pred)) \u001B[38;5;241m&\u001B[39m use_mask)\n\u001B[1;32m     22\u001B[0m     \u001B[38;5;28;01mreturn\u001B[39;00m tp, fp, fn, tn\n\u001B[0;32m---> 24\u001B[0m \u001B[38;5;28;01mdef\u001B[39;00m \u001B[38;5;21mcompute_metrics\u001B[39m(reference_file: \u001B[38;5;28mstr\u001B[39m, prediction_file: \u001B[38;5;28mstr\u001B[39m, image_reader_writer: \u001B[43mBaseReaderWriter\u001B[49m,\n\u001B[1;32m     25\u001B[0m                     labels_or_regions: Union[List[\u001B[38;5;28mint\u001B[39m], List[Union[\u001B[38;5;28mint\u001B[39m, Tuple[\u001B[38;5;28mint\u001B[39m, \u001B[38;5;241m.\u001B[39m\u001B[38;5;241m.\u001B[39m\u001B[38;5;241m.\u001B[39m]]]],\n\u001B[1;32m     26\u001B[0m                     ignore_label: \u001B[38;5;28mint\u001B[39m \u001B[38;5;241m=\u001B[39m \u001B[38;5;28;01mNone\u001B[39;00m) \u001B[38;5;241m-\u001B[39m\u001B[38;5;241m>\u001B[39m \u001B[38;5;28mdict\u001B[39m:\n\u001B[1;32m     27\u001B[0m     \u001B[38;5;66;03m# load images\u001B[39;00m\n\u001B[1;32m     28\u001B[0m     seg_ref, seg_ref_dict \u001B[38;5;241m=\u001B[39m image_reader_writer\u001B[38;5;241m.\u001B[39mread_seg(reference_file)\n\u001B[1;32m     29\u001B[0m     seg_pred, seg_pred_dict \u001B[38;5;241m=\u001B[39m image_reader_writer\u001B[38;5;241m.\u001B[39mread_seg(prediction_file)\n",
      "\u001B[0;31mNameError\u001B[0m: name 'BaseReaderWriter' is not defined"
     ]
    }
   ],
   "source": [
    "# import numpy as np\n",
    "# from typing import Tuple, List, Union\n",
    "# from nnunetv2.imageio.base_reader_writer import BaseReaderWriter\n",
    "# \n",
    "# def region_or_label_to_mask(segmentation: np.ndarray, region_or_label: Union[int, Tuple[int, ...]]) -> np.ndarray:\n",
    "#     if np.isscalar(region_or_label):\n",
    "#         return segmentation == region_or_label\n",
    "#     else:\n",
    "#         mask = np.zeros_like(segmentation, dtype=bool)\n",
    "#         for r in region_or_label:\n",
    "#             mask[segmentation == r] = True\n",
    "#     return mask\n",
    "# \n",
    "# def compute_tp_fp_fn_tn(mask_ref: np.ndarray, mask_pred: np.ndarray, ignore_mask: np.ndarray = None):\n",
    "#     if ignore_mask is None:\n",
    "#         use_mask = np.ones_like(mask_ref, dtype=bool)\n",
    "#     else:\n",
    "#         use_mask = ~ignore_mask\n",
    "#     tp = np.sum((mask_ref & mask_pred) & use_mask)\n",
    "#     fp = np.sum(((~mask_ref) & mask_pred) & use_mask)\n",
    "#     fn = np.sum((mask_ref & (~mask_pred)) & use_mask)\n",
    "#     tn = np.sum(((~mask_ref) & (~mask_pred)) & use_mask)\n",
    "#     return tp, fp, fn, tn\n",
    "# \n",
    "# def compute_metrics(reference_file: str, prediction_file: str, image_reader_writer: BaseReaderWriter,\n",
    "#                     labels_or_regions: Union[List[int], List[Union[int, Tuple[int, ...]]]],\n",
    "#                     ignore_label: int = None) -> dict:\n",
    "#     # load images\n",
    "#     seg_ref, seg_ref_dict = image_reader_writer.read_seg(reference_file)\n",
    "#     seg_pred, seg_pred_dict = image_reader_writer.read_seg(prediction_file)\n",
    "#     # spacing = seg_ref_dict['spacing']\n",
    "# \n",
    "#     ignore_mask = seg_ref == ignore_label if ignore_label is not None else None\n",
    "# \n",
    "#     results = {}\n",
    "#     results['reference_file'] = reference_file\n",
    "#     results['prediction_file'] = prediction_file\n",
    "#     results['metrics'] = {}\n",
    "#     for r in labels_or_regions:\n",
    "#         results['metrics'][r] = {}\n",
    "#         mask_ref = region_or_label_to_mask(seg_ref, r)\n",
    "#         mask_pred = region_or_label_to_mask(seg_pred, r)\n",
    "#         tp, fp, fn, tn = compute_tp_fp_fn_tn(mask_ref, mask_pred, ignore_mask)\n",
    "#         if tp + fp + fn == 0:\n",
    "#             results['metrics'][r]['Dice'] = np.nan\n",
    "#             results['metrics'][r]['IoU'] = np.nan\n",
    "#         else:\n",
    "#             results['metrics'][r]['Dice'] = 2 * tp / (2 * tp + fp + fn)\n",
    "#             results['metrics'][r]['IoU'] = tp / (tp + fp + fn)\n",
    "#         results['metrics'][r]['FP'] = fp\n",
    "#         results['metrics'][r]['TP'] = tp\n",
    "#         results['metrics'][r]['FN'] = fn\n",
    "#         results['metrics'][r]['TN'] = tn\n",
    "#         results['metrics'][r]['n_pred'] = fp + tp\n",
    "#         results['metrics'][r]['n_ref'] = fn + tp\n",
    "#     return results\n"
   ],
   "metadata": {
    "collapsed": false,
    "ExecuteTime": {
     "end_time": "2024-03-18T21:25:50.573810Z",
     "start_time": "2024-03-18T21:25:50.556159Z"
    }
   },
   "id": "ae2c18862392f099"
  },
  {
   "cell_type": "code",
   "execution_count": null,
   "outputs": [],
   "source": [],
   "metadata": {
    "collapsed": false
   },
   "id": "12e661942d2804e3"
  },
  {
   "cell_type": "code",
   "execution_count": 27,
   "outputs": [
    {
     "data": {
      "text/plain": "{'reference_file': '/Users/ephraimmeiri/gitEtc/MSK-Capstone/case_00104_act.nii.gz',\n 'prediction_file': '/Users/ephraimmeiri/Downloads/case_00104.nii.gz',\n 'metrics': {0: {'Dice': 0.9976935256039596,\n   'IoU': 0.995397666372593,\n   'FP': 7552,\n   'TP': 1858287,\n   'FN': 1040,\n   'TN': 897,\n   'n_pred': 1865839,\n   'n_ref': 1859327},\n  1: {'Dice': 0.016310103791569584,\n   'IoU': 0.008222103577148959,\n   'FP': 1860,\n   'TP': 77,\n   'FN': 7428,\n   'TN': 1858411,\n   'n_pred': 1937,\n   'n_ref': 7505}}}"
     },
     "execution_count": 27,
     "metadata": {},
     "output_type": "execute_result"
    }
   ],
   "source": [
    "from nnunetv2.evaluation.evaluate_predictions import compute_metrics\n",
    "from nnunetv2.imageio.simpleitk_reader_writer import SimpleITKIO\n",
    "\n",
    "compute_metrics(classif_rounded_path, example_pred_path,SimpleITKIO(),[0,1])"
   ],
   "metadata": {
    "collapsed": false,
    "ExecuteTime": {
     "end_time": "2024-03-18T22:06:38.209925Z",
     "start_time": "2024-03-18T22:06:38.129178Z"
    }
   },
   "id": "68bcd8e8769472ee"
  },
  {
   "cell_type": "markdown",
   "source": [],
   "metadata": {
    "collapsed": false
   },
   "id": "6c9e1a451431d404"
  },
  {
   "cell_type": "code",
   "execution_count": 13,
   "outputs": [
    {
     "data": {
      "text/plain": "(128, 128, 114)"
     },
     "execution_count": 13,
     "metadata": {},
     "output_type": "execute_result"
    }
   ],
   "source": [
    "np.shape(actual_classif)"
   ],
   "metadata": {
    "collapsed": false,
    "ExecuteTime": {
     "end_time": "2024-03-18T21:42:23.959786Z",
     "start_time": "2024-03-18T21:42:23.953778Z"
    }
   },
   "id": "f8f002343f445b1b"
  },
  {
   "cell_type": "code",
   "execution_count": 14,
   "outputs": [
    {
     "data": {
      "text/plain": "(128, 128, 114)"
     },
     "execution_count": 14,
     "metadata": {},
     "output_type": "execute_result"
    }
   ],
   "source": [
    "np.shape(example_pred)"
   ],
   "metadata": {
    "collapsed": false,
    "ExecuteTime": {
     "end_time": "2024-03-18T21:42:30.140151Z",
     "start_time": "2024-03-18T21:42:30.131395Z"
    }
   },
   "id": "458acdad93838410"
  },
  {
   "cell_type": "code",
   "execution_count": 23,
   "outputs": [],
   "source": [
    "for i in range(example_pred.shape[0]):\n",
    "    for j in range(example_pred.shape[1]):\n",
    "        for k in range(example_pred.shape[2]):\n",
    "            if rounded_data[i,j,k] == 0:\n",
    "                example_pred[i,j,k] = 0"
   ],
   "metadata": {
    "collapsed": false,
    "ExecuteTime": {
     "end_time": "2024-03-18T22:03:02.981484Z",
     "start_time": "2024-03-18T22:03:01.578091Z"
    }
   },
   "id": "a7e775716c2c3bc3"
  },
  {
   "cell_type": "code",
   "execution_count": 24,
   "outputs": [],
   "source": [
    "nifti_image = nib.Nifti1Image(example_pred, example_pred_img.affine, example_pred_img.header)\n",
    "nifti_image.to_filename(\"case_00104_mod.nii.gz\")"
   ],
   "metadata": {
    "collapsed": false,
    "ExecuteTime": {
     "end_time": "2024-03-18T22:03:04.701318Z",
     "start_time": "2024-03-18T22:03:04.662351Z"
    }
   },
   "id": "d6d3c118801375c0"
  },
  {
   "cell_type": "code",
   "execution_count": 21,
   "outputs": [
    {
     "data": {
      "text/plain": "array([0.00000000e+00, 1.40460455e-04, 1.77770271e-04, ...,\n       1.96892309e+00, 1.97945762e+00, 2.00000000e+00])"
     },
     "execution_count": 21,
     "metadata": {},
     "output_type": "execute_result"
    }
   ],
   "source": [
    "np.unique(actual_classif)"
   ],
   "metadata": {
    "collapsed": false,
    "ExecuteTime": {
     "end_time": "2024-03-18T22:01:15.630528Z",
     "start_time": "2024-03-18T22:01:15.597300Z"
    }
   },
   "id": "e496fc337c32fefd"
  },
  {
   "cell_type": "code",
   "execution_count": 28,
   "outputs": [
    {
     "data": {
      "text/plain": "{'reference_file': '/Users/ephraimmeiri/gitEtc/MSK-Capstone/case_00104_act.nii.gz',\n 'prediction_file': '/Users/ephraimmeiri/gitEtc/MSK-Capstone/case_00104_mod.nii.gz',\n 'metrics': {0: {'Dice': 0.9979732736193329,\n   'IoU': 0.9959547458619439,\n   'FP': 7552,\n   'TP': 1859327,\n   'FN': 0,\n   'TN': 897,\n   'n_pred': 1866879,\n   'n_ref': 1859327},\n  1: {'Dice': 0.01832896929302547,\n   'IoU': 0.009249249249249249,\n   'FP': 820,\n   'TP': 77,\n   'FN': 7428,\n   'TN': 1859451,\n   'n_pred': 897,\n   'n_ref': 7505}}}"
     },
     "execution_count": 28,
     "metadata": {},
     "output_type": "execute_result"
    }
   ],
   "source": [
    "compute_metrics(classif_rounded_path, \"/Users/ephraimmeiri/gitEtc/MSK-Capstone/case_00104_mod.nii.gz\",SimpleITKIO(),[0,1])"
   ],
   "metadata": {
    "collapsed": false,
    "ExecuteTime": {
     "end_time": "2024-03-18T22:07:09.144725Z",
     "start_time": "2024-03-18T22:07:09.095953Z"
    }
   },
   "id": "efa41e333b8dd7a1"
  },
  {
   "cell_type": "code",
   "execution_count": 44,
   "outputs": [],
   "source": [
    "import os\n",
    "\n",
    "def round_examples(dir,pred_dir,new_ref_dir):\n",
    "    if not os.path.exists(new_ref_dir):\n",
    "        os.mkdir(new_ref_dir)\n",
    "    for case in os.listdir(pred_dir):\n",
    "        if case.endswith(\".nii.gz\"):\n",
    "            actual_classif_path = os.path.join(dir,case.split(\".\")[0],\"segmentation.nii.gz\")\n",
    "            actual_classif_img = nib.load(actual_classif_path)\n",
    "            actual_classif = nib.load(actual_classif_path).get_fdata()\n",
    "            rounded_data = np.rint(actual_classif).astype(np.uint8)\n",
    "            modified_img = nib.Nifti1Image(rounded_data, actual_classif_img.affine, actual_classif_img.header)\n",
    "            nib.save(modified_img, os.path.join(new_ref_dir,case))"
   ],
   "metadata": {
    "collapsed": false,
    "ExecuteTime": {
     "end_time": "2024-03-20T20:06:33.695922Z",
     "start_time": "2024-03-20T20:06:33.694053Z"
    }
   },
   "id": "e0a49442d32f2ded"
  },
  {
   "cell_type": "code",
   "execution_count": 31,
   "outputs": [],
   "source": [
    "dir = \"/Users/ephraimmeiri/gitEtc/nnUNet/resized1/all_cases\"\n",
    "pred_dir = \"/Users/ephraimmeiri/Downloads/filtered_preds\"\n",
    "new_ref_dir = \"/Users/ephraimmeiri/gitEtc/MSK-Capstone/rounded_refs\""
   ],
   "metadata": {
    "collapsed": false,
    "ExecuteTime": {
     "end_time": "2024-03-20T19:39:15.641532Z",
     "start_time": "2024-03-20T19:39:15.616121Z"
    }
   },
   "id": "8622ca756b4f9c9e"
  },
  {
   "cell_type": "code",
   "execution_count": 45,
   "outputs": [],
   "source": [
    "round_examples(dir,pred_dir,new_ref_dir)"
   ],
   "metadata": {
    "collapsed": false,
    "ExecuteTime": {
     "end_time": "2024-03-20T20:06:37.029849Z",
     "start_time": "2024-03-20T20:06:35.322182Z"
    }
   },
   "id": "a69e1d89ae86a634"
  },
  {
   "cell_type": "code",
   "execution_count": 34,
   "outputs": [
    {
     "ename": "TypeError",
     "evalue": "endswith first arg must be str or a tuple of str, not SimpleITKIO",
     "output_type": "error",
     "traceback": [
      "\u001B[0;31m---------------------------------------------------------------------------\u001B[0m",
      "\u001B[0;31mTypeError\u001B[0m                                 Traceback (most recent call last)",
      "Cell \u001B[0;32mIn [34], line 4\u001B[0m\n\u001B[1;32m      1\u001B[0m \u001B[38;5;28;01mfrom\u001B[39;00m \u001B[38;5;21;01mnnunetv2\u001B[39;00m\u001B[38;5;21;01m.\u001B[39;00m\u001B[38;5;21;01mevaluation\u001B[39;00m\u001B[38;5;21;01m.\u001B[39;00m\u001B[38;5;21;01mevaluate_predictions\u001B[39;00m \u001B[38;5;28;01mimport\u001B[39;00m compute_metrics_on_folder\n\u001B[1;32m      3\u001B[0m output_file \u001B[38;5;241m=\u001B[39m pred_dir\u001B[38;5;241m+\u001B[39m\u001B[38;5;124m'\u001B[39m\u001B[38;5;124m/summary.json\u001B[39m\u001B[38;5;124m'\u001B[39m\n\u001B[0;32m----> 4\u001B[0m \u001B[43mcompute_metrics_on_folder\u001B[49m\u001B[43m(\u001B[49m\u001B[38;5;124;43m\"\u001B[39;49m\u001B[38;5;124;43m/Users/ephraimmeiri/gitEtc/MSK-Capstone\u001B[39;49m\u001B[38;5;124;43m\"\u001B[39;49m\u001B[43m,\u001B[49m\u001B[43m \u001B[49m\u001B[38;5;124;43m\"\u001B[39;49m\u001B[38;5;124;43m/Users/ephraimmeiri/Downloads/filtered_preds\u001B[39;49m\u001B[38;5;124;43m\"\u001B[39;49m\u001B[43m,\u001B[49m\u001B[43moutput_file\u001B[49m\u001B[43m,\u001B[49m\u001B[38;5;124;43m'\u001B[39;49m\u001B[38;5;124;43m.nii.gz\u001B[39;49m\u001B[38;5;124;43m'\u001B[39;49m\u001B[43m,\u001B[49m\u001B[43mSimpleITKIO\u001B[49m\u001B[43m(\u001B[49m\u001B[43m)\u001B[49m\u001B[43m,\u001B[49m\u001B[43m[\u001B[49m\u001B[38;5;241;43m0\u001B[39;49m\u001B[43m,\u001B[49m\u001B[38;5;241;43m1\u001B[39;49m\u001B[43m]\u001B[49m\u001B[43m,\u001B[49m\u001B[38;5;28;43;01mNone\u001B[39;49;00m\u001B[43m)\u001B[49m\n",
      "File \u001B[0;32m/Library/Frameworks/Python.framework/Versions/3.10/lib/python3.10/site-packages/nnunetv2/evaluation/evaluate_predictions.py:135\u001B[0m, in \u001B[0;36mcompute_metrics_on_folder\u001B[0;34m(folder_ref, folder_pred, output_file, image_reader_writer, file_ending, regions_or_labels, ignore_label, num_processes, chill)\u001B[0m\n\u001B[1;32m    133\u001B[0m \u001B[38;5;28;01mif\u001B[39;00m output_file \u001B[38;5;129;01mis\u001B[39;00m \u001B[38;5;129;01mnot\u001B[39;00m \u001B[38;5;28;01mNone\u001B[39;00m:\n\u001B[1;32m    134\u001B[0m     \u001B[38;5;28;01massert\u001B[39;00m output_file\u001B[38;5;241m.\u001B[39mendswith(\u001B[38;5;124m'\u001B[39m\u001B[38;5;124m.json\u001B[39m\u001B[38;5;124m'\u001B[39m), \u001B[38;5;124m'\u001B[39m\u001B[38;5;124moutput_file should end with .json\u001B[39m\u001B[38;5;124m'\u001B[39m\n\u001B[0;32m--> 135\u001B[0m files_pred \u001B[38;5;241m=\u001B[39m \u001B[43msubfiles\u001B[49m\u001B[43m(\u001B[49m\u001B[43mfolder_pred\u001B[49m\u001B[43m,\u001B[49m\u001B[43m \u001B[49m\u001B[43msuffix\u001B[49m\u001B[38;5;241;43m=\u001B[39;49m\u001B[43mfile_ending\u001B[49m\u001B[43m,\u001B[49m\u001B[43m \u001B[49m\u001B[43mjoin\u001B[49m\u001B[38;5;241;43m=\u001B[39;49m\u001B[38;5;28;43;01mFalse\u001B[39;49;00m\u001B[43m)\u001B[49m\n\u001B[1;32m    136\u001B[0m files_ref \u001B[38;5;241m=\u001B[39m subfiles(folder_ref, suffix\u001B[38;5;241m=\u001B[39mfile_ending, join\u001B[38;5;241m=\u001B[39m\u001B[38;5;28;01mFalse\u001B[39;00m)\n\u001B[1;32m    137\u001B[0m \u001B[38;5;28;01mif\u001B[39;00m \u001B[38;5;129;01mnot\u001B[39;00m chill:\n",
      "File \u001B[0;32m/Library/Frameworks/Python.framework/Versions/3.10/lib/python3.10/site-packages/batchgenerators/utilities/file_and_folder_operations.py:40\u001B[0m, in \u001B[0;36msubfiles\u001B[0;34m(folder, join, prefix, suffix, sort)\u001B[0m\n\u001B[1;32m     38\u001B[0m \u001B[38;5;28;01melse\u001B[39;00m:\n\u001B[1;32m     39\u001B[0m     l \u001B[38;5;241m=\u001B[39m \u001B[38;5;28;01mlambda\u001B[39;00m x, y: y\n\u001B[0;32m---> 40\u001B[0m res \u001B[38;5;241m=\u001B[39m [l(folder, i) \u001B[38;5;28;01mfor\u001B[39;00m i \u001B[38;5;129;01min\u001B[39;00m os\u001B[38;5;241m.\u001B[39mlistdir(folder) \u001B[38;5;28;01mif\u001B[39;00m os\u001B[38;5;241m.\u001B[39mpath\u001B[38;5;241m.\u001B[39misfile(os\u001B[38;5;241m.\u001B[39mpath\u001B[38;5;241m.\u001B[39mjoin(folder, i))\n\u001B[1;32m     41\u001B[0m        \u001B[38;5;129;01mand\u001B[39;00m (prefix \u001B[38;5;129;01mis\u001B[39;00m \u001B[38;5;28;01mNone\u001B[39;00m \u001B[38;5;129;01mor\u001B[39;00m i\u001B[38;5;241m.\u001B[39mstartswith(prefix))\n\u001B[1;32m     42\u001B[0m        \u001B[38;5;129;01mand\u001B[39;00m (suffix \u001B[38;5;129;01mis\u001B[39;00m \u001B[38;5;28;01mNone\u001B[39;00m \u001B[38;5;129;01mor\u001B[39;00m i\u001B[38;5;241m.\u001B[39mendswith(suffix))]\n\u001B[1;32m     43\u001B[0m \u001B[38;5;28;01mif\u001B[39;00m sort:\n\u001B[1;32m     44\u001B[0m     res\u001B[38;5;241m.\u001B[39msort()\n",
      "File \u001B[0;32m/Library/Frameworks/Python.framework/Versions/3.10/lib/python3.10/site-packages/batchgenerators/utilities/file_and_folder_operations.py:42\u001B[0m, in \u001B[0;36m<listcomp>\u001B[0;34m(.0)\u001B[0m\n\u001B[1;32m     38\u001B[0m \u001B[38;5;28;01melse\u001B[39;00m:\n\u001B[1;32m     39\u001B[0m     l \u001B[38;5;241m=\u001B[39m \u001B[38;5;28;01mlambda\u001B[39;00m x, y: y\n\u001B[1;32m     40\u001B[0m res \u001B[38;5;241m=\u001B[39m [l(folder, i) \u001B[38;5;28;01mfor\u001B[39;00m i \u001B[38;5;129;01min\u001B[39;00m os\u001B[38;5;241m.\u001B[39mlistdir(folder) \u001B[38;5;28;01mif\u001B[39;00m os\u001B[38;5;241m.\u001B[39mpath\u001B[38;5;241m.\u001B[39misfile(os\u001B[38;5;241m.\u001B[39mpath\u001B[38;5;241m.\u001B[39mjoin(folder, i))\n\u001B[1;32m     41\u001B[0m        \u001B[38;5;129;01mand\u001B[39;00m (prefix \u001B[38;5;129;01mis\u001B[39;00m \u001B[38;5;28;01mNone\u001B[39;00m \u001B[38;5;129;01mor\u001B[39;00m i\u001B[38;5;241m.\u001B[39mstartswith(prefix))\n\u001B[0;32m---> 42\u001B[0m        \u001B[38;5;129;01mand\u001B[39;00m (suffix \u001B[38;5;129;01mis\u001B[39;00m \u001B[38;5;28;01mNone\u001B[39;00m \u001B[38;5;129;01mor\u001B[39;00m \u001B[43mi\u001B[49m\u001B[38;5;241;43m.\u001B[39;49m\u001B[43mendswith\u001B[49m\u001B[43m(\u001B[49m\u001B[43msuffix\u001B[49m\u001B[43m)\u001B[49m)]\n\u001B[1;32m     43\u001B[0m \u001B[38;5;28;01mif\u001B[39;00m sort:\n\u001B[1;32m     44\u001B[0m     res\u001B[38;5;241m.\u001B[39msort()\n",
      "\u001B[0;31mTypeError\u001B[0m: endswith first arg must be str or a tuple of str, not SimpleITKIO"
     ]
    }
   ],
   "source": [
    "from nnunetv2.evaluation.evaluate_predictions import compute_metrics_on_folder\n",
    "\n",
    "output_file = pred_dir+'/summary.json'\n",
    "\n",
    "compute_metrics_on_folder(, \"/Users/ephraimmeiri/Downloads/filtered_preds\",output_file,'.nii.gz',SimpleITKIO(),[0,1],None)"
   ],
   "metadata": {
    "collapsed": false,
    "ExecuteTime": {
     "end_time": "2024-03-20T19:40:58.585254Z",
     "start_time": "2024-03-20T19:40:58.276951Z"
    }
   },
   "id": "314e0908079c5a09"
  },
  {
   "cell_type": "code",
   "execution_count": 47,
   "outputs": [
    {
     "data": {
      "text/plain": "{'metric_per_case': [{'reference_file': '/Users/ephraimmeiri/gitEtc/MSK-Capstone/rounded_refs/case_00109.nii.gz',\n   'prediction_file': '/Users/ephraimmeiri/Downloads/filtered_preds/case_00109.nii.gz',\n   'metrics': {(0,): {'Dice': 0.9935596373031078,\n     'IoU': 0.9872017002981986,\n     'FP': 15837,\n     'TP': 1221593,\n     'FN': 0,\n     'TN': 0,\n     'n_pred': 1237430,\n     'n_ref': 1221593},\n    (1,): {'Dice': 0.0,\n     'IoU': 0.0,\n     'FP': 0,\n     'TP': 0,\n     'FN': 15837,\n     'TN': 1221593,\n     'n_pred': 0,\n     'n_ref': 15837}}},\n  {'reference_file': '/Users/ephraimmeiri/gitEtc/MSK-Capstone/rounded_refs/case_00114.nii.gz',\n   'prediction_file': '/Users/ephraimmeiri/Downloads/filtered_preds/case_00114.nii.gz',\n   'metrics': {(0,): {'Dice': 0.9943425685161473,\n     'IoU': 0.9887487899820815,\n     'FP': 54628,\n     'TP': 4800672,\n     'FN': 0,\n     'TN': 0,\n     'n_pred': 4855300,\n     'n_ref': 4800672},\n    (1,): {'Dice': 0.0,\n     'IoU': 0.0,\n     'FP': 0,\n     'TP': 0,\n     'FN': 54458,\n     'TN': 4800842,\n     'n_pred': 0,\n     'n_ref': 54458}}},\n  {'reference_file': '/Users/ephraimmeiri/gitEtc/MSK-Capstone/rounded_refs/case_00135.nii.gz',\n   'prediction_file': '/Users/ephraimmeiri/Downloads/filtered_preds/case_00135.nii.gz',\n   'metrics': {(0,): {'Dice': 0.9967360360503444,\n     'IoU': 0.993493309703249,\n     'FP': 66996,\n     'TP': 10229483,\n     'FN': 0,\n     'TN': 0,\n     'n_pred': 10296479,\n     'n_ref': 10229483},\n    (1,): {'Dice': 0.0,\n     'IoU': 0.0,\n     'FP': 0,\n     'TP': 0,\n     'FN': 66996,\n     'TN': 10229483,\n     'n_pred': 0,\n     'n_ref': 66996}}},\n  {'reference_file': '/Users/ephraimmeiri/gitEtc/MSK-Capstone/rounded_refs/case_00215.nii.gz',\n   'prediction_file': '/Users/ephraimmeiri/Downloads/filtered_preds/case_00215.nii.gz',\n   'metrics': {(0,): {'Dice': 0.9978177958431754,\n     'IoU': 0.995645094978192,\n     'FP': 5847,\n     'TP': 1336777,\n     'FN': 0,\n     'TN': 0,\n     'n_pred': 1342624,\n     'n_ref': 1336777},\n    (1,): {'Dice': 0.0,\n     'IoU': 0.0,\n     'FP': 0,\n     'TP': 0,\n     'FN': 5739,\n     'TN': 1336885,\n     'n_pred': 0,\n     'n_ref': 5739}}},\n  {'reference_file': '/Users/ephraimmeiri/gitEtc/MSK-Capstone/rounded_refs/case_00256.nii.gz',\n   'prediction_file': '/Users/ephraimmeiri/Downloads/filtered_preds/case_00256.nii.gz',\n   'metrics': {(0,): {'Dice': 0.9961717851166196,\n     'IoU': 0.9923727689128061,\n     'FP': 9370,\n     'TP': 1219123,\n     'FN': 0,\n     'TN': 0,\n     'n_pred': 1228493,\n     'n_ref': 1219123},\n    (1,): {'Dice': 0.0,\n     'IoU': 0.0,\n     'FP': 0,\n     'TP': 0,\n     'FN': 8457,\n     'TN': 1220036,\n     'n_pred': 0,\n     'n_ref': 8457}}},\n  {'reference_file': '/Users/ephraimmeiri/gitEtc/MSK-Capstone/rounded_refs/case_00276.nii.gz',\n   'prediction_file': '/Users/ephraimmeiri/Downloads/filtered_preds/case_00276.nii.gz',\n   'metrics': {(0,): {'Dice': 0.9972243476547609,\n     'IoU': 0.9944640611511707,\n     'FP': 65931,\n     'TP': 11843702,\n     'FN': 0,\n     'TN': 0,\n     'n_pred': 11909633,\n     'n_ref': 11843702},\n    (1,): {'Dice': 0.0,\n     'IoU': 0.0,\n     'FP': 0,\n     'TP': 0,\n     'FN': 65931,\n     'TN': 11843702,\n     'n_pred': 0,\n     'n_ref': 65931}}},\n  {'reference_file': '/Users/ephraimmeiri/gitEtc/MSK-Capstone/rounded_refs/case_00427.nii.gz',\n   'prediction_file': '/Users/ephraimmeiri/Downloads/filtered_preds/case_00427.nii.gz',\n   'metrics': {(0,): {'Dice': 0.9941396061983971,\n     'IoU': 0.9883475006318646,\n     'FP': 8898,\n     'TP': 754715,\n     'FN': 0,\n     'TN': 0,\n     'n_pred': 763613,\n     'n_ref': 754715},\n    (1,): {'Dice': 0.0,\n     'IoU': 0.0,\n     'FP': 0,\n     'TP': 0,\n     'FN': 8735,\n     'TN': 754878,\n     'n_pred': 0,\n     'n_ref': 8735}}},\n  {'reference_file': '/Users/ephraimmeiri/gitEtc/MSK-Capstone/rounded_refs/case_00467.nii.gz',\n   'prediction_file': '/Users/ephraimmeiri/Downloads/filtered_preds/case_00467.nii.gz',\n   'metrics': {(0,): {'Dice': 0.993898361366435,\n     'IoU': 0.9878707311482925,\n     'FP': 19845,\n     'TP': 1616280,\n     'FN': 0,\n     'TN': 0,\n     'n_pred': 1636125,\n     'n_ref': 1616280},\n    (1,): {'Dice': 0.0,\n     'IoU': 0.0,\n     'FP': 0,\n     'TP': 0,\n     'FN': 19845,\n     'TN': 1616280,\n     'n_pred': 0,\n     'n_ref': 19845}}},\n  {'reference_file': '/Users/ephraimmeiri/gitEtc/MSK-Capstone/rounded_refs/case_00492.nii.gz',\n   'prediction_file': '/Users/ephraimmeiri/Downloads/filtered_preds/case_00492.nii.gz',\n   'metrics': {(0,): {'Dice': 0.9965187086549709,\n     'IoU': 0.9930615719992889,\n     'FP': 11124,\n     'TP': 1592121,\n     'FN': 0,\n     'TN': 0,\n     'n_pred': 1603245,\n     'n_ref': 1592121},\n    (1,): {'Dice': 0.0,\n     'IoU': 0.0,\n     'FP': 0,\n     'TP': 0,\n     'FN': 11089,\n     'TN': 1592156,\n     'n_pred': 0,\n     'n_ref': 11089}}},\n  {'reference_file': '/Users/ephraimmeiri/gitEtc/MSK-Capstone/rounded_refs/case_00507.nii.gz',\n   'prediction_file': '/Users/ephraimmeiri/Downloads/filtered_preds/case_00507.nii.gz',\n   'metrics': {(0,): {'Dice': 0.9973282416486049,\n     'IoU': 0.9946707218406391,\n     'FP': 7766,\n     'TP': 1449467,\n     'FN': 0,\n     'TN': 0,\n     'n_pred': 1457233,\n     'n_ref': 1449467},\n    (1,): {'Dice': 0.0,\n     'IoU': 0.0,\n     'FP': 0,\n     'TP': 0,\n     'FN': 7603,\n     'TN': 1449630,\n     'n_pred': 0,\n     'n_ref': 7603}}},\n  {'reference_file': '/Users/ephraimmeiri/gitEtc/MSK-Capstone/rounded_refs/case_00515.nii.gz',\n   'prediction_file': '/Users/ephraimmeiri/Downloads/filtered_preds/case_00515.nii.gz',\n   'metrics': {(0,): {'Dice': 0.9965043817291311,\n     'IoU': 0.9930331170216923,\n     'FP': 37086,\n     'TP': 5286098,\n     'FN': 0,\n     'TN': 0,\n     'n_pred': 5323184,\n     'n_ref': 5286098},\n    (1,): {'Dice': 0.0,\n     'IoU': 0.0,\n     'FP': 0,\n     'TP': 0,\n     'FN': 29305,\n     'TN': 5293879,\n     'n_pred': 0,\n     'n_ref': 29305}}},\n  {'reference_file': '/Users/ephraimmeiri/gitEtc/MSK-Capstone/rounded_refs/case_00517.nii.gz',\n   'prediction_file': '/Users/ephraimmeiri/Downloads/filtered_preds/case_00517.nii.gz',\n   'metrics': {(0,): {'Dice': 0.9977130683267104,\n     'IoU': 0.9954365728993958,\n     'FP': 39235,\n     'TP': 8558470,\n     'FN': 0,\n     'TN': 0,\n     'n_pred': 8597705,\n     'n_ref': 8558470},\n    (1,): {'Dice': 0.0,\n     'IoU': 0.0,\n     'FP': 0,\n     'TP': 0,\n     'FN': 39235,\n     'TN': 8558470,\n     'n_pred': 0,\n     'n_ref': 39235}}},\n  {'reference_file': '/Users/ephraimmeiri/gitEtc/MSK-Capstone/rounded_refs/case_00542.nii.gz',\n   'prediction_file': '/Users/ephraimmeiri/Downloads/filtered_preds/case_00542.nii.gz',\n   'metrics': {(0,): {'Dice': 0.9954700002410226,\n     'IoU': 0.9909808571967701,\n     'FP': 33267,\n     'TP': 3655221,\n     'FN': 0,\n     'TN': 0,\n     'n_pred': 3688488,\n     'n_ref': 3655221},\n    (1,): {'Dice': 0.0,\n     'IoU': 0.0,\n     'FP': 0,\n     'TP': 0,\n     'FN': 33035,\n     'TN': 3655453,\n     'n_pred': 0,\n     'n_ref': 33035}}},\n  {'reference_file': '/Users/ephraimmeiri/gitEtc/MSK-Capstone/rounded_refs/case_00566.nii.gz',\n   'prediction_file': '/Users/ephraimmeiri/Downloads/filtered_preds/case_00566.nii.gz',\n   'metrics': {(0,): {'Dice': 0.9976600751693254,\n     'IoU': 0.9953310752715556,\n     'FP': 11550,\n     'TP': 2462253,\n     'FN': 0,\n     'TN': 0,\n     'n_pred': 2473803,\n     'n_ref': 2462253},\n    (1,): {'Dice': 0.0,\n     'IoU': 0.0,\n     'FP': 0,\n     'TP': 0,\n     'FN': 11519,\n     'TN': 2462284,\n     'n_pred': 0,\n     'n_ref': 11519}}}],\n 'mean': {(0,): {'Dice': 0.9960774724156252,\n   'IoU': 0.9921898480739427,\n   'FP': 27670.0,\n   'TP': 4001855.3571428573,\n   'FN': 0.0,\n   'TN': 0.0,\n   'n_pred': 4029525.3571428573,\n   'n_ref': 4001855.3571428573},\n  (1,): {'Dice': 0.0,\n   'IoU': 0.0,\n   'FP': 0.0,\n   'TP': 0.0,\n   'FN': 26984.571428571428,\n   'TN': 4002540.785714286,\n   'n_pred': 0.0,\n   'n_ref': 26984.571428571428}},\n 'foreground_mean': {'Dice': 0.4980387362078126,\n  'IoU': 0.49609492403697136,\n  'FP': 13835.0,\n  'TP': 2000927.6785714286,\n  'FN': 13492.285714285714,\n  'TN': 2001270.392857143,\n  'n_pred': 2014762.6785714286,\n  'n_ref': 2014419.9642857143}}"
     },
     "execution_count": 47,
     "metadata": {},
     "output_type": "execute_result"
    }
   ],
   "source": [
    "from nnunetv2.evaluation.evaluate_predictions import labels_to_list_of_regions\n",
    "\n",
    "folder_ref = \"/Users/ephraimmeiri/gitEtc/MSK-Capstone/rounded_refs\"\n",
    "folder_pred = \"/Users/ephraimmeiri/Downloads/filtered_preds\"\n",
    "output_file = pred_dir+'/summary.json'\n",
    "image_reader_writer = SimpleITKIO()\n",
    "file_ending = '.nii.gz'\n",
    "regions = labels_to_list_of_regions([0,1])\n",
    "ignore_label = [2]\n",
    "num_processes = 12\n",
    "compute_metrics_on_folder(folder_ref, folder_pred, output_file, image_reader_writer, file_ending, regions, ignore_label)\n"
   ],
   "metadata": {
    "collapsed": false,
    "ExecuteTime": {
     "end_time": "2024-03-20T20:08:24.997193Z",
     "start_time": "2024-03-20T20:08:20.378398Z"
    }
   },
   "id": "862f4cce58721540"
  },
  {
   "cell_type": "markdown",
   "source": [],
   "metadata": {
    "collapsed": false
   },
   "id": "feb5823366405a68"
  }
 ],
 "metadata": {
  "kernelspec": {
   "display_name": "Python 3",
   "language": "python",
   "name": "python3"
  },
  "language_info": {
   "codemirror_mode": {
    "name": "ipython",
    "version": 2
   },
   "file_extension": ".py",
   "mimetype": "text/x-python",
   "name": "python",
   "nbconvert_exporter": "python",
   "pygments_lexer": "ipython2",
   "version": "2.7.6"
  }
 },
 "nbformat": 4,
 "nbformat_minor": 5
}
